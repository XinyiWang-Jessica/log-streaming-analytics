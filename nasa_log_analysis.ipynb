{
 "cells": [
  {
   "cell_type": "code",
   "execution_count": 1,
   "id": "94f09b7e-322e-4200-b30c-cf15e83d6d19",
   "metadata": {},
   "outputs": [
    {
     "name": "stdout",
     "output_type": "stream",
     "text": [
      "23/06/22 00:43:04 WARN Utils: Your hostname, Xinyis-MacBook-Air.local resolves to a loopback address: 127.0.0.1; using 192.168.0.201 instead (on interface en0)\n",
      "23/06/22 00:43:04 WARN Utils: Set SPARK_LOCAL_IP if you need to bind to another address\n"
     ]
    },
    {
     "name": "stderr",
     "output_type": "stream",
     "text": [
      "Setting default log level to \"WARN\".\n",
      "To adjust logging level use sc.setLogLevel(newLevel). For SparkR, use setLogLevel(newLevel).\n"
     ]
    },
    {
     "name": "stdout",
     "output_type": "stream",
     "text": [
      "23/06/22 00:43:05 WARN NativeCodeLoader: Unable to load native-hadoop library for your platform... using builtin-java classes where applicable\n",
      "23/06/22 00:43:06 WARN Utils: Service 'SparkUI' could not bind on port 4040. Attempting port 4041.\n"
     ]
    },
    {
     "name": "stderr",
     "output_type": "stream",
     "text": [
      "/Users/jwang/opt/anaconda3/envs/DDS/lib/python3.10/site-packages/pyspark/sql/context.py:112: FutureWarning: Deprecated in 3.0.0. Use SparkSession.builder.getOrCreate() instead.\n",
      "  warnings.warn(\n"
     ]
    }
   ],
   "source": [
    "from pyspark.context import SparkContext\n",
    "from pyspark.sql.context import SQLContext\n",
    "from pyspark.sql.session import SparkSession\n",
    "\n",
    "import re\n",
    "import pandas as pd\n",
    "    \n",
    "sc = SparkContext()\n",
    "sqlContext = SQLContext(sc)\n",
    "spark = SparkSession(sc)"
   ]
  },
  {
   "cell_type": "code",
   "execution_count": 2,
   "id": "34cb229e-8f64-4ef8-bf9b-7f3deea41224",
   "metadata": {},
   "outputs": [],
   "source": [
    "from nasa_transformation import *"
   ]
  },
  {
   "cell_type": "markdown",
   "id": "e4317d13-5401-4675-8e3a-0a5738550a13",
   "metadata": {},
   "source": [
    "# Loading and Parsing NASA Log Dataset"
   ]
  },
  {
   "cell_type": "code",
   "execution_count": 3,
   "id": "cdc01f86-4d97-4fc2-b4ad-5e8fa82ddd6e",
   "metadata": {},
   "outputs": [
    {
     "name": "stderr",
     "output_type": "stream",
     "text": [
      "                                                                                \r"
     ]
    },
    {
     "data": {
      "text/plain": [
       "[Row(value='199.72.81.55 - - [01/Jul/1995:00:00:01 -0400] \"GET /history/apollo/ HTTP/1.0\" 200 6245'),\n",
       " Row(value='unicomp6.unicomp.net - - [01/Jul/1995:00:00:06 -0400] \"GET /shuttle/countdown/ HTTP/1.0\" 200 3985'),\n",
       " Row(value='199.120.110.21 - - [01/Jul/1995:00:00:09 -0400] \"GET /shuttle/missions/sts-73/mission-sts-73.html HTTP/1.0\" 200 4085'),\n",
       " Row(value='burger.letters.com - - [01/Jul/1995:00:00:11 -0400] \"GET /shuttle/countdown/liftoff.html HTTP/1.0\" 304 0'),\n",
       " Row(value='199.120.110.21 - - [01/Jul/1995:00:00:11 -0400] \"GET /shuttle/missions/sts-73/sts-73-patch-small.gif HTTP/1.0\" 200 4179'),\n",
       " Row(value='burger.letters.com - - [01/Jul/1995:00:00:12 -0400] \"GET /images/NASA-logosmall.gif HTTP/1.0\" 304 0'),\n",
       " Row(value='burger.letters.com - - [01/Jul/1995:00:00:12 -0400] \"GET /shuttle/countdown/video/livevideo.gif HTTP/1.0\" 200 0'),\n",
       " Row(value='205.212.115.106 - - [01/Jul/1995:00:00:12 -0400] \"GET /shuttle/countdown/countdown.html HTTP/1.0\" 200 3985'),\n",
       " Row(value='d104.aa.net - - [01/Jul/1995:00:00:13 -0400] \"GET /shuttle/countdown/ HTTP/1.0\" 200 3985'),\n",
       " Row(value='129.94.144.152 - - [01/Jul/1995:00:00:13 -0400] \"GET / HTTP/1.0\" 200 7074')]"
      ]
     },
     "execution_count": 3,
     "metadata": {},
     "output_type": "execute_result"
    }
   ],
   "source": [
    "input_file_path = ''\n",
    "input_df = zip_log_to_df(input_file_path, spark)\n",
    "input_df.take(10)"
   ]
  },
  {
   "cell_type": "code",
   "execution_count": 4,
   "id": "bb588951-dcf1-4d90-8988-1f6cd4edfd60",
   "metadata": {},
   "outputs": [
    {
     "name": "stdout",
     "output_type": "stream",
     "text": [
      "+--------------------+--------------------+------+--------------------+--------+------+------------+\n",
      "|                host|           timestamp|method|            endpoint|protocol|status|content_size|\n",
      "+--------------------+--------------------+------+--------------------+--------+------+------------+\n",
      "|        199.72.81.55|01/Jul/1995:00:00...|   GET|    /history/apollo/|HTTP/1.0|   200|        6245|\n",
      "|unicomp6.unicomp.net|01/Jul/1995:00:00...|   GET| /shuttle/countdown/|HTTP/1.0|   200|        3985|\n",
      "|      199.120.110.21|01/Jul/1995:00:00...|   GET|/shuttle/missions...|HTTP/1.0|   200|        4085|\n",
      "|  burger.letters.com|01/Jul/1995:00:00...|   GET|/shuttle/countdow...|HTTP/1.0|   304|           0|\n",
      "|      199.120.110.21|01/Jul/1995:00:00...|   GET|/shuttle/missions...|HTTP/1.0|   200|        4179|\n",
      "|  burger.letters.com|01/Jul/1995:00:00...|   GET|/images/NASA-logo...|HTTP/1.0|   304|           0|\n",
      "|  burger.letters.com|01/Jul/1995:00:00...|   GET|/shuttle/countdow...|HTTP/1.0|   200|           0|\n",
      "|     205.212.115.106|01/Jul/1995:00:00...|   GET|/shuttle/countdow...|HTTP/1.0|   200|        3985|\n",
      "|         d104.aa.net|01/Jul/1995:00:00...|   GET| /shuttle/countdown/|HTTP/1.0|   200|        3985|\n",
      "|      129.94.144.152|01/Jul/1995:00:00...|   GET|                   /|HTTP/1.0|   200|        7074|\n",
      "+--------------------+--------------------+------+--------------------+--------+------+------------+\n",
      "only showing top 10 rows\n",
      "\n"
     ]
    }
   ],
   "source": [
    "# split the rows to columns\n",
    "df = split_to_df(input_df,ts_pattern1)\n",
    "df.show(10, truncate=True)"
   ]
  },
  {
   "cell_type": "markdown",
   "id": "15658642-a341-453c-af06-b9ffc42c7010",
   "metadata": {},
   "source": [
    "# Handling Missing Data "
   ]
  },
  {
   "cell_type": "markdown",
   "id": "2a390f4f-ea1b-4634-a43e-4f39bfb5d35f",
   "metadata": {},
   "source": [
    "## Count Missing Values"
   ]
  },
  {
   "cell_type": "code",
   "execution_count": 5,
   "id": "353341a5-ca0d-4b96-a27e-2499bcd55ea1",
   "metadata": {},
   "outputs": [
    {
     "data": {
      "text/plain": [
       "['host',\n",
       " 'timestamp',\n",
       " 'method',\n",
       " 'endpoint',\n",
       " 'protocol',\n",
       " 'status',\n",
       " 'content_size']"
      ]
     },
     "execution_count": 5,
     "metadata": {},
     "output_type": "execute_result"
    }
   ],
   "source": [
    "df.columns"
   ]
  },
  {
   "cell_type": "code",
   "execution_count": 6,
   "id": "d3380c2e-2080-4d36-a878-9400dd2d4789",
   "metadata": {},
   "outputs": [
    {
     "name": "stderr",
     "output_type": "stream",
     "text": [
      "[Stage 2:=============================>                             (1 + 1) / 2]\r"
     ]
    },
    {
     "name": "stdout",
     "output_type": "stream",
     "text": [
      "+----+---------+------+--------+--------+------+------------+\n",
      "|host|timestamp|method|endpoint|protocol|status|content_size|\n",
      "+----+---------+------+--------+--------+------+------------+\n",
      "|   0|        0|     0|       0|       0|     1|       33905|\n",
      "+----+---------+------+--------+--------+------+------------+\n",
      "\n"
     ]
    },
    {
     "name": "stderr",
     "output_type": "stream",
     "text": [
      "                                                                                \r"
     ]
    }
   ],
   "source": [
    "# count the number of missing values for each column\n",
    "count_null_col(df).show()"
   ]
  },
  {
   "cell_type": "markdown",
   "id": "a0453b37-7ee3-431b-9d80-12e20be5bf44",
   "metadata": {},
   "source": [
    "## Show Missing Values"
   ]
  },
  {
   "cell_type": "code",
   "execution_count": 7,
   "id": "903b1a55-f33e-40fe-8d2e-cd7802e2d18f",
   "metadata": {},
   "outputs": [
    {
     "name": "stderr",
     "output_type": "stream",
     "text": [
      "[Stage 6:>                                                          (0 + 1) / 1]\r"
     ]
    },
    {
     "name": "stdout",
     "output_type": "stream",
     "text": [
      "+--------+\n",
      "|value   |\n",
      "+--------+\n",
      "|alyssa.p|\n",
      "+--------+\n",
      "\n"
     ]
    },
    {
     "name": "stderr",
     "output_type": "stream",
     "text": [
      "                                                                                \r"
     ]
    }
   ],
   "source": [
    "null_status_df = input_df.filter(~input_df['value'].rlike(r'\\s(\\d{3})\\s'))\n",
    "null_status_df.show(truncate=False)"
   ]
  },
  {
   "cell_type": "markdown",
   "id": "42391fd3-9df3-42da-8b8e-23f2143d9dac",
   "metadata": {},
   "source": [
    "## Drop Missing Values "
   ]
  },
  {
   "cell_type": "code",
   "execution_count": 8,
   "id": "9d0dcedc-1c5e-4972-9493-1fd94ceb4cb0",
   "metadata": {},
   "outputs": [],
   "source": [
    "df_clean = fill_null_values(df)"
   ]
  },
  {
   "cell_type": "code",
   "execution_count": 9,
   "id": "b887f38a-be4a-48d8-a647-f15f8851bb26",
   "metadata": {},
   "outputs": [
    {
     "name": "stderr",
     "output_type": "stream",
     "text": [
      "[Stage 7:=============================>                             (1 + 1) / 2]\r"
     ]
    },
    {
     "name": "stdout",
     "output_type": "stream",
     "text": [
      "+----+---------+------+--------+--------+------+------------+\n",
      "|host|timestamp|method|endpoint|protocol|status|content_size|\n",
      "+----+---------+------+--------+--------+------+------------+\n",
      "|   0|        0|     0|       0|       0|     0|           0|\n",
      "+----+---------+------+--------+--------+------+------------+\n",
      "\n"
     ]
    },
    {
     "name": "stderr",
     "output_type": "stream",
     "text": [
      "                                                                                \r"
     ]
    }
   ],
   "source": [
    "# count null values after cleaning\n",
    "count_null_col(df_clean).show()"
   ]
  },
  {
   "cell_type": "markdown",
   "id": "e1121718-0126-43ef-9888-a7adf2ca8423",
   "metadata": {},
   "source": [
    "# Data Engineering"
   ]
  },
  {
   "cell_type": "markdown",
   "id": "724fcb08-ae59-43b5-bace-ef9d6d49ac4d",
   "metadata": {},
   "source": [
    "## Format Timestamp"
   ]
  },
  {
   "cell_type": "code",
   "execution_count": 10,
   "id": "0f4c4488-32b1-463a-b828-1ae6ca6923a4",
   "metadata": {},
   "outputs": [
    {
     "name": "stderr",
     "output_type": "stream",
     "text": [
      "[Stage 10:>                                                         (0 + 1) / 1]\r"
     ]
    },
    {
     "name": "stdout",
     "output_type": "stream",
     "text": [
      "+--------------------+------+--------------------+--------+------+------------+-------------------+\n",
      "|                host|method|            endpoint|protocol|status|content_size|               time|\n",
      "+--------------------+------+--------------------+--------+------+------------+-------------------+\n",
      "|        199.72.81.55|   GET|    /history/apollo/|HTTP/1.0|   200|        6245|1995-07-01 00:00:01|\n",
      "|unicomp6.unicomp.net|   GET| /shuttle/countdown/|HTTP/1.0|   200|        3985|1995-07-01 00:00:06|\n",
      "|      199.120.110.21|   GET|/shuttle/missions...|HTTP/1.0|   200|        4085|1995-07-01 00:00:09|\n",
      "|  burger.letters.com|   GET|/shuttle/countdow...|HTTP/1.0|   304|           0|1995-07-01 00:00:11|\n",
      "|      199.120.110.21|   GET|/shuttle/missions...|HTTP/1.0|   200|        4179|1995-07-01 00:00:11|\n",
      "|  burger.letters.com|   GET|/images/NASA-logo...|HTTP/1.0|   304|           0|1995-07-01 00:00:12|\n",
      "|  burger.letters.com|   GET|/shuttle/countdow...|HTTP/1.0|   200|           0|1995-07-01 00:00:12|\n",
      "|     205.212.115.106|   GET|/shuttle/countdow...|HTTP/1.0|   200|        3985|1995-07-01 00:00:12|\n",
      "|         d104.aa.net|   GET| /shuttle/countdown/|HTTP/1.0|   200|        3985|1995-07-01 00:00:13|\n",
      "|      129.94.144.152|   GET|                   /|HTTP/1.0|   200|        7074|1995-07-01 00:00:13|\n",
      "+--------------------+------+--------------------+--------+------+------------+-------------------+\n",
      "only showing top 10 rows\n",
      "\n"
     ]
    },
    {
     "name": "stderr",
     "output_type": "stream",
     "text": [
      "                                                                                \r"
     ]
    }
   ],
   "source": [
    "# format timpstamp to year-month-date format\n",
    "df = month_to_num(df_clean)\n",
    "df = format_timestamp(df)\n",
    "df.show(10, truncate=True)"
   ]
  },
  {
   "cell_type": "markdown",
   "id": "7e7c62a5-129a-4a98-a45c-74d2769b7cc7",
   "metadata": {},
   "source": [
    "# Data Analysis "
   ]
  },
  {
   "cell_type": "markdown",
   "id": "7f5c8440-2bf3-4e3e-b328-f78e953b5d0b",
   "metadata": {},
   "source": [
    "import matplotlib.pyplot as plt\n",
    "import numpy as np\n",
    "import seaborn as sns\n",
    "from pyspark.sql import functions as F\n",
    "%matplotlib inline"
   ]
  },
  {
   "cell_type": "markdown",
   "id": "a8ca9398-ea82-48b5-bbbf-18e24cd57b33",
   "metadata": {},
   "source": [
    "## Content Size"
   ]
  },
  {
   "cell_type": "code",
   "execution_count": 11,
   "id": "911c0ef8-71de-48e0-a667-da19ba40f744",
   "metadata": {},
   "outputs": [
    {
     "name": "stderr",
     "output_type": "stream",
     "text": [
      "                                                                                \r"
     ]
    },
    {
     "data": {
      "text/html": [
       "<div>\n",
       "<style scoped>\n",
       "    .dataframe tbody tr th:only-of-type {\n",
       "        vertical-align: middle;\n",
       "    }\n",
       "\n",
       "    .dataframe tbody tr th {\n",
       "        vertical-align: top;\n",
       "    }\n",
       "\n",
       "    .dataframe thead th {\n",
       "        text-align: right;\n",
       "    }\n",
       "</style>\n",
       "<table border=\"1\" class=\"dataframe\">\n",
       "  <thead>\n",
       "    <tr style=\"text-align: right;\">\n",
       "      <th></th>\n",
       "      <th>summary</th>\n",
       "      <th>content_size</th>\n",
       "    </tr>\n",
       "  </thead>\n",
       "  <tbody>\n",
       "    <tr>\n",
       "      <th>0</th>\n",
       "      <td>count</td>\n",
       "      <td>3461612</td>\n",
       "    </tr>\n",
       "    <tr>\n",
       "      <th>1</th>\n",
       "      <td>mean</td>\n",
       "      <td>18928.844398216785</td>\n",
       "    </tr>\n",
       "    <tr>\n",
       "      <th>2</th>\n",
       "      <td>stddev</td>\n",
       "      <td>73031.47260949228</td>\n",
       "    </tr>\n",
       "    <tr>\n",
       "      <th>3</th>\n",
       "      <td>min</td>\n",
       "      <td>0</td>\n",
       "    </tr>\n",
       "    <tr>\n",
       "      <th>4</th>\n",
       "      <td>max</td>\n",
       "      <td>6823936</td>\n",
       "    </tr>\n",
       "  </tbody>\n",
       "</table>\n",
       "</div>"
      ],
      "text/plain": [
       "  summary        content_size\n",
       "0   count             3461612\n",
       "1    mean  18928.844398216785\n",
       "2  stddev   73031.47260949228\n",
       "3     min                   0\n",
       "4     max             6823936"
      ]
     },
     "execution_count": 11,
     "metadata": {},
     "output_type": "execute_result"
    }
   ],
   "source": [
    "content_size_summary_df = df.describe(['content_size'])\n",
    "content_size_summary_df.toPandas()"
   ]
  },
  {
   "cell_type": "markdown",
   "id": "0c93c14b-eb13-4662-8db9-14d61b8b6979",
   "metadata": {
    "tags": []
   },
   "source": [
    "## HTTP Status"
   ]
  },
  {
   "cell_type": "code",
   "execution_count": 12,
   "id": "0b9b162f-6fa6-4522-8ac6-19f9df4b0af0",
   "metadata": {},
   "outputs": [
    {
     "name": "stderr",
     "output_type": "stream",
     "text": [
      "                                                                                \r"
     ]
    },
    {
     "data": {
      "text/plain": [
       "DataFrame[status: int, count: bigint]"
      ]
     },
     "execution_count": 12,
     "metadata": {},
     "output_type": "execute_result"
    },
    {
     "data": {
      "image/png": "[encoded data removed]",
      "text/plain": [
       "<Figure size 500x500 with 1 Axes>"
      ]
     },
     "metadata": {},
     "output_type": "display_data"
    }
   ],
   "source": [
    "plot_status(df)"
   ]
  },
  {
   "cell_type": "code",
   "execution_count": 13,
   "id": "1e02fc2b-5e5b-4c55-b092-ae14365345a9",
   "metadata": {},
   "outputs": [
    {
     "name": "stdout",
     "output_type": "stream",
     "text": [
      "23/06/22 00:44:05 WARN CacheManager: Asked to cache already cached data.\n"
     ]
    },
    {
     "data": {
      "text/plain": [
       "DataFrame[status: int, count: bigint]"
      ]
     },
     "execution_count": 13,
     "metadata": {},
     "output_type": "execute_result"
    },
    {
     "data": {
      "image/png": "[encoded data removed]",
      "text/plain": [
       "<Figure size 500x500 with 1 Axes>"
      ]
     },
     "metadata": {},
     "output_type": "display_data"
    }
   ],
   "source": [
    "plot_log_status(df)"
   ]
  },
  {
   "cell_type": "markdown",
   "id": "1c58d631-56cd-4c5a-ab44-e1df2d7a9949",
   "metadata": {},
   "source": [
    "## Frequent Host"
   ]
  },
  {
   "cell_type": "code",
   "execution_count": 14,
   "id": "0424f14c-4824-4521-b093-1b59b84ccd51",
   "metadata": {},
   "outputs": [
    {
     "name": "stderr",
     "output_type": "stream",
     "text": [
      "[Stage 22:=============================>                            (1 + 1) / 2]\r"
     ]
    },
    {
     "name": "stdout",
     "output_type": "stream",
     "text": [
      "+--------------------+-----+\n",
      "|host                |count|\n",
      "+--------------------+-----+\n",
      "|piweba3y.prodigy.com|21988|\n",
      "|piweba4y.prodigy.com|16437|\n",
      "|piweba1y.prodigy.com|12825|\n",
      "|edams.ksc.nasa.gov  |11964|\n",
      "|163.206.89.4        |9697 |\n",
      "+--------------------+-----+\n",
      "\n"
     ]
    },
    {
     "name": "stderr",
     "output_type": "stream",
     "text": [
      "                                                                                \r"
     ]
    }
   ],
   "source": [
    "top_host(df, 5).show(truncate=False)"
   ]
  },
  {
   "cell_type": "markdown",
   "id": "4637c769-52f8-47c3-abb9-af478a79e2cc",
   "metadata": {},
   "source": [
    "## Top EndPoint "
   ]
  },
  {
   "cell_type": "code",
   "execution_count": 15,
   "id": "eb2068d7-c468-411b-8bf0-9f328c186aed",
   "metadata": {},
   "outputs": [
    {
     "name": "stderr",
     "output_type": "stream",
     "text": [
      "[Stage 26:=============================>                            (1 + 1) / 2]\r"
     ]
    },
    {
     "name": "stdout",
     "output_type": "stream",
     "text": [
      "+---------------------------------------+------+\n",
      "|endpoint                               |count |\n",
      "+---------------------------------------+------+\n",
      "|/images/NASA-logosmall.gif             |208714|\n",
      "|/images/KSC-logosmall.gif              |164970|\n",
      "|/images/MOSAIC-logosmall.gif           |127908|\n",
      "|/images/USA-logosmall.gif              |127074|\n",
      "|/images/WORLD-logosmall.gif            |125925|\n",
      "|/images/ksclogo-medium.gif             |121572|\n",
      "|/ksc.html                              |83909 |\n",
      "|/images/launch-logo.gif                |76006 |\n",
      "|/history/apollo/images/apollo-logo1.gif|68896 |\n",
      "|/shuttle/countdown/                    |64736 |\n",
      "+---------------------------------------+------+\n",
      "\n"
     ]
    },
    {
     "name": "stderr",
     "output_type": "stream",
     "text": [
      "                                                                                \r"
     ]
    }
   ],
   "source": [
    "top_endpoint(df,10).show(truncate=False)"
   ]
  },
  {
   "cell_type": "markdown",
   "id": "fa765942-b98c-4a65-ae0a-6b8602263f03",
   "metadata": {},
   "source": [
    "## Top EndPoints by day of week"
   ]
  },
  {
   "cell_type": "code",
   "execution_count": 16,
   "id": "625fb569-70eb-4259-897d-4043eed42cea",
   "metadata": {},
   "outputs": [
    {
     "name": "stderr",
     "output_type": "stream",
     "text": [
      "                                                                                \r"
     ]
    },
    {
     "name": "stdout",
     "output_type": "stream",
     "text": [
      "+--------------------------+-----+-------------+\n",
      "|endpoint                  |count|Day in a week|\n",
      "+--------------------------+-----+-------------+\n",
      "|/images/KSC-logosmall.gif |15218|Sunday       |\n",
      "|/images/NASA-logosmall.gif|30380|Monday       |\n",
      "|/images/NASA-logosmall.gif|33685|Tuesday      |\n",
      "|/images/NASA-logosmall.gif|37598|Wednesday    |\n",
      "|/images/NASA-logosmall.gif|46920|Thursday     |\n",
      "|/images/NASA-logosmall.gif|29139|Friday       |\n",
      "|/images/NASA-logosmall.gif|16168|Saturday     |\n",
      "+--------------------------+-----+-------------+\n",
      "\n"
     ]
    },
    {
     "name": "stderr",
     "output_type": "stream",
     "text": [
      "                                                                                \r"
     ]
    }
   ],
   "source": [
    "result = top_endpoint_by_day(df)\n",
    "result.show(7, truncate=False)"
   ]
  },
  {
   "cell_type": "markdown",
   "id": "2804d199-9042-4607-bd87-a28cd2339058",
   "metadata": {},
   "source": [
    "## 404 status count by day of week"
   ]
  },
  {
   "cell_type": "code",
   "execution_count": 17,
   "id": "48b9e971-ad9b-455a-b75e-d71d938ff27a",
   "metadata": {},
   "outputs": [],
   "source": [
    "def error_count_by_day(df):\n",
    "    df_404 = (df.filter(df['status'] == 404))\n",
    "    status_day_df = df_404.select(df.endpoint, \n",
    "                             F.dayofweek('time').alias('weekday'))\n",
    "    # group by weekday and the endpoint, aggregate by counts\n",
    "    status_freq_df = (status_day_df\n",
    "                     .groupBy('weekday')\n",
    "                     .count()\n",
    "                     .sort(\"weekday\"))\n",
    "    udf_parse_day = udf(parse_day_of_week)\n",
    "    result = status_freq_df.select('*', udf_parse_day(status_freq_df['weekday']).alias('Day in a week')).drop('weekday')\n",
    "    return result"
   ]
  },
  {
   "cell_type": "code",
   "execution_count": 18,
   "id": "cf9a947c-0a03-43ae-b771-fcc10a071558",
   "metadata": {},
   "outputs": [
    {
     "name": "stderr",
     "output_type": "stream",
     "text": [
      "                                                                                \r"
     ]
    },
    {
     "name": "stdout",
     "output_type": "stream",
     "text": [
      "+-----+-------------+\n",
      "|count|Day in a week|\n",
      "+-----+-------------+\n",
      "|2400 |Sunday       |\n",
      "|3145 |Monday       |\n",
      "|3425 |Tuesday      |\n",
      "|3397 |Wednesday    |\n",
      "|3772 |Thursday     |\n",
      "|2691 |Friday       |\n",
      "|2069 |Saturday     |\n",
      "+-----+-------------+\n",
      "\n"
     ]
    }
   ],
   "source": [
    "error_by_day = error_count_by_day(df)\n",
    "error_by_day.show(7, truncate=False)"
   ]
  },
  {
   "cell_type": "code",
   "execution_count": 19,
   "id": "c3202272-cc35-466e-a690-d98b858a033c",
   "metadata": {},
   "outputs": [
    {
     "name": "stderr",
     "output_type": "stream",
     "text": [
      "                                                                                \r"
     ]
    },
    {
     "data": {
      "text/plain": [
       "<seaborn.axisgrid.FacetGrid at 0x7f862a893e20>"
      ]
     },
     "execution_count": 19,
     "metadata": {},
     "output_type": "execute_result"
    },
    {
     "data": {
      "image/png": "[encoded data removed]",
      "text/plain": [
       "<Figure size 750x500 with 1 Axes>"
      ]
     },
     "metadata": {},
     "output_type": "display_data"
    }
   ],
   "source": [
    "sns.catplot(x='Day in a week', y='count', \n",
    "                data=error_by_day.toPandas(), \n",
    "                kind='point', height=5, \n",
    "                aspect=1.5)"
   ]
  },
  {
   "cell_type": "code",
   "execution_count": null,
   "id": "a8ad0967-8fcc-4432-9e46-908da52d7cd4",
   "metadata": {},
   "outputs": [],
   "source": []
  }
 ],
 "metadata": {
  "kernelspec": {
   "display_name": "Python 3 (ipykernel)",
   "language": "python",
   "name": "python3"
  },
  "language_info": {
   "codemirror_mode": {
    "name": "ipython",
    "version": 3
   },
   "file_extension": ".py",
   "mimetype": "text/x-python",
   "name": "python",
   "nbconvert_exporter": "python",
   "pygments_lexer": "ipython3",
   "version": "3.10.0"
  }
 },
 "nbformat": 4,
 "nbformat_minor": 5
}
