{
 "cells": [
  {
   "cell_type": "code",
   "execution_count": 1,
   "id": "94f09b7e-322e-4200-b30c-cf15e83d6d19",
   "metadata": {},
   "outputs": [
    {
     "name": "stdout",
     "output_type": "stream",
     "text": [
      "23/06/26 20:35:13 WARN Utils: Your hostname, Xinyis-MacBook-Air.local resolves to a loopback address: 127.0.0.1; using 192.168.0.201 instead (on interface en0)\n",
      "23/06/26 20:35:13 WARN Utils: Set SPARK_LOCAL_IP if you need to bind to another address\n"
     ]
    },
    {
     "name": "stderr",
     "output_type": "stream",
     "text": [
      "Setting default log level to \"WARN\".\n",
      "To adjust logging level use sc.setLogLevel(newLevel). For SparkR, use setLogLevel(newLevel).\n"
     ]
    },
    {
     "name": "stdout",
     "output_type": "stream",
     "text": [
      "23/06/26 20:35:14 WARN NativeCodeLoader: Unable to load native-hadoop library for your platform... using builtin-java classes where applicable\n"
     ]
    },
    {
     "name": "stderr",
     "output_type": "stream",
     "text": [
      "/Users/jwang/opt/anaconda3/envs/DDS/lib/python3.10/site-packages/pyspark/sql/context.py:112: FutureWarning: Deprecated in 3.0.0. Use SparkSession.builder.getOrCreate() instead.\n",
      "  warnings.warn(\n"
     ]
    }
   ],
   "source": [
    "from pyspark.context import SparkContext\n",
    "from pyspark.sql.context import SQLContext\n",
    "from pyspark.sql.session import SparkSession\n",
    "\n",
    "import re\n",
    "import pandas as pd\n",
    "    \n",
    "sc = SparkContext()\n",
    "sqlContext = SQLContext(sc)\n",
    "spark = SparkSession(sc)"
   ]
  },
  {
   "cell_type": "code",
   "execution_count": 2,
   "id": "34cb229e-8f64-4ef8-bf9b-7f3deea41224",
   "metadata": {},
   "outputs": [],
   "source": [
    "from transformation import *"
   ]
  },
  {
   "cell_type": "markdown",
   "id": "e4317d13-5401-4675-8e3a-0a5738550a13",
   "metadata": {},
   "source": [
    "# Loading and Parsing NASA Log Dataset"
   ]
  },
  {
   "cell_type": "code",
   "execution_count": 3,
   "id": "cdc01f86-4d97-4fc2-b4ad-5e8fa82ddd6e",
   "metadata": {},
   "outputs": [
    {
     "name": "stderr",
     "output_type": "stream",
     "text": [
      "                                                                                \r"
     ]
    },
    {
     "data": {
      "text/plain": [
       "[Row(value='199.72.81.55 - - [01/Jul/1995:00:00:01 -0400] \"GET /history/apollo/ HTTP/1.0\" 200 6245'),\n",
       " Row(value='unicomp6.unicomp.net - - [01/Jul/1995:00:00:06 -0400] \"GET /shuttle/countdown/ HTTP/1.0\" 200 3985'),\n",
       " Row(value='199.120.110.21 - - [01/Jul/1995:00:00:09 -0400] \"GET /shuttle/missions/sts-73/mission-sts-73.html HTTP/1.0\" 200 4085'),\n",
       " Row(value='burger.letters.com - - [01/Jul/1995:00:00:11 -0400] \"GET /shuttle/countdown/liftoff.html HTTP/1.0\" 304 0'),\n",
       " Row(value='199.120.110.21 - - [01/Jul/1995:00:00:11 -0400] \"GET /shuttle/missions/sts-73/sts-73-patch-small.gif HTTP/1.0\" 200 4179'),\n",
       " Row(value='burger.letters.com - - [01/Jul/1995:00:00:12 -0400] \"GET /images/NASA-logosmall.gif HTTP/1.0\" 304 0'),\n",
       " Row(value='burger.letters.com - - [01/Jul/1995:00:00:12 -0400] \"GET /shuttle/countdown/video/livevideo.gif HTTP/1.0\" 200 0'),\n",
       " Row(value='205.212.115.106 - - [01/Jul/1995:00:00:12 -0400] \"GET /shuttle/countdown/countdown.html HTTP/1.0\" 200 3985'),\n",
       " Row(value='d104.aa.net - - [01/Jul/1995:00:00:13 -0400] \"GET /shuttle/countdown/ HTTP/1.0\" 200 3985'),\n",
       " Row(value='129.94.144.152 - - [01/Jul/1995:00:00:13 -0400] \"GET / HTTP/1.0\" 200 7074')]"
      ]
     },
     "execution_count": 3,
     "metadata": {},
     "output_type": "execute_result"
    }
   ],
   "source": [
    "input_file_path = ''\n",
    "input_df = zip_log_to_df(input_file_path, spark)\n",
    "input_df.take(10)"
   ]
  },
  {
   "cell_type": "code",
   "execution_count": 4,
   "id": "bb588951-dcf1-4d90-8988-1f6cd4edfd60",
   "metadata": {},
   "outputs": [
    {
     "name": "stdout",
     "output_type": "stream",
     "text": [
      "+--------------------+--------------------+------+--------------------+--------+------+------------+\n",
      "|                host|           timestamp|method|            endpoint|protocol|status|content_size|\n",
      "+--------------------+--------------------+------+--------------------+--------+------+------------+\n",
      "|        199.72.81.55|01/Jul/1995:00:00...|   GET|    /history/apollo/|HTTP/1.0|   200|        6245|\n",
      "|unicomp6.unicomp.net|01/Jul/1995:00:00...|   GET| /shuttle/countdown/|HTTP/1.0|   200|        3985|\n",
      "|      199.120.110.21|01/Jul/1995:00:00...|   GET|/shuttle/missions...|HTTP/1.0|   200|        4085|\n",
      "|  burger.letters.com|01/Jul/1995:00:00...|   GET|/shuttle/countdow...|HTTP/1.0|   304|           0|\n",
      "|      199.120.110.21|01/Jul/1995:00:00...|   GET|/shuttle/missions...|HTTP/1.0|   200|        4179|\n",
      "|  burger.letters.com|01/Jul/1995:00:00...|   GET|/images/NASA-logo...|HTTP/1.0|   304|           0|\n",
      "|  burger.letters.com|01/Jul/1995:00:00...|   GET|/shuttle/countdow...|HTTP/1.0|   200|           0|\n",
      "|     205.212.115.106|01/Jul/1995:00:00...|   GET|/shuttle/countdow...|HTTP/1.0|   200|        3985|\n",
      "|         d104.aa.net|01/Jul/1995:00:00...|   GET| /shuttle/countdown/|HTTP/1.0|   200|        3985|\n",
      "|      129.94.144.152|01/Jul/1995:00:00...|   GET|                   /|HTTP/1.0|   200|        7074|\n",
      "+--------------------+--------------------+------+--------------------+--------+------+------------+\n",
      "only showing top 10 rows\n",
      "\n"
     ]
    }
   ],
   "source": [
    "# split the rows to columns\n",
    "df = split_to_df(input_df,ts_pattern1)\n",
    "df.show(10, truncate=True)"
   ]
  },
  {
   "cell_type": "markdown",
   "id": "15658642-a341-453c-af06-b9ffc42c7010",
   "metadata": {},
   "source": [
    "# Handling Missing Data "
   ]
  },
  {
   "cell_type": "markdown",
   "id": "2a390f4f-ea1b-4634-a43e-4f39bfb5d35f",
   "metadata": {},
   "source": [
    "## Count Missing Values"
   ]
  },
  {
   "cell_type": "code",
   "execution_count": 8,
   "id": "ee29a1c1",
   "metadata": {},
   "outputs": [
    {
     "name": "stderr",
     "output_type": "stream",
     "text": [
      "                                                                                \r"
     ]
    },
    {
     "data": {
      "text/plain": [
       "33905"
      ]
     },
     "execution_count": 8,
     "metadata": {},
     "output_type": "execute_result"
    }
   ],
   "source": [
    "# count the total number of rows has missing values\n",
    "count_null(df)"
   ]
  },
  {
   "cell_type": "code",
   "execution_count": 6,
   "id": "d3380c2e-2080-4d36-a878-9400dd2d4789",
   "metadata": {},
   "outputs": [
    {
     "name": "stderr",
     "output_type": "stream",
     "text": [
      "[Stage 2:=============================>                             (1 + 1) / 2]\r"
     ]
    },
    {
     "name": "stdout",
     "output_type": "stream",
     "text": [
      "+----+---------+------+--------+--------+------+------------+\n",
      "|host|timestamp|method|endpoint|protocol|status|content_size|\n",
      "+----+---------+------+--------+--------+------+------------+\n",
      "|   0|        0|     0|       0|       0|     1|       33905|\n",
      "+----+---------+------+--------+--------+------+------------+\n",
      "\n"
     ]
    },
    {
     "name": "stderr",
     "output_type": "stream",
     "text": [
      "                                                                                \r"
     ]
    }
   ],
   "source": [
    "# count the number of missing values for each column\n",
    "count_null_cols(df).show()"
   ]
  },
  {
   "cell_type": "markdown",
   "id": "a0453b37-7ee3-431b-9d80-12e20be5bf44",
   "metadata": {},
   "source": [
    "## Show Missing Values"
   ]
  },
  {
   "cell_type": "code",
   "execution_count": 9,
   "id": "903b1a55-f33e-40fe-8d2e-cd7802e2d18f",
   "metadata": {},
   "outputs": [
    {
     "name": "stderr",
     "output_type": "stream",
     "text": [
      "[Stage 9:>                                                          (0 + 1) / 1]\r"
     ]
    },
    {
     "name": "stdout",
     "output_type": "stream",
     "text": [
      "+--------+\n",
      "|value   |\n",
      "+--------+\n",
      "|alyssa.p|\n",
      "+--------+\n",
      "\n"
     ]
    },
    {
     "name": "stderr",
     "output_type": "stream",
     "text": [
      "                                                                                \r"
     ]
    }
   ],
   "source": [
    "null_status_df = input_df.filter(~input_df['value'].rlike(r'\\s(\\d{3})\\s'))\n",
    "null_status_df.show(truncate=False)"
   ]
  },
  {
   "cell_type": "markdown",
   "id": "42391fd3-9df3-42da-8b8e-23f2143d9dac",
   "metadata": {},
   "source": [
    "## Drop Missing Values "
   ]
  },
  {
   "cell_type": "markdown",
   "id": "b276f6ed",
   "metadata": {},
   "source": [
    "We can pass the records with missing values."
   ]
  },
  {
   "cell_type": "code",
   "execution_count": 10,
   "id": "9d0dcedc-1c5e-4972-9493-1fd94ceb4cb0",
   "metadata": {},
   "outputs": [],
   "source": [
    "df_clean = fill_null_values(df)"
   ]
  },
  {
   "cell_type": "code",
   "execution_count": 12,
   "id": "b887f38a-be4a-48d8-a647-f15f8851bb26",
   "metadata": {},
   "outputs": [
    {
     "name": "stderr",
     "output_type": "stream",
     "text": [
      "[Stage 10:=============================>                            (1 + 1) / 2]\r"
     ]
    },
    {
     "name": "stdout",
     "output_type": "stream",
     "text": [
      "+----+---------+------+--------+--------+------+------------+\n",
      "|host|timestamp|method|endpoint|protocol|status|content_size|\n",
      "+----+---------+------+--------+--------+------+------------+\n",
      "|   0|        0|     0|       0|       0|     0|           0|\n",
      "+----+---------+------+--------+--------+------+------------+\n",
      "\n"
     ]
    },
    {
     "name": "stderr",
     "output_type": "stream",
     "text": [
      "                                                                                \r"
     ]
    }
   ],
   "source": [
    "# count null values after cleaning\n",
    "count_null_cols(df_clean).show()"
   ]
  },
  {
   "cell_type": "markdown",
   "id": "99790cae",
   "metadata": {},
   "source": [
    "Missing values are droped. "
   ]
  },
  {
   "cell_type": "markdown",
   "id": "e1121718-0126-43ef-9888-a7adf2ca8423",
   "metadata": {},
   "source": [
    "# Data Engineering"
   ]
  },
  {
   "cell_type": "markdown",
   "id": "724fcb08-ae59-43b5-bace-ef9d6d49ac4d",
   "metadata": {},
   "source": [
    "## Format Timestamp"
   ]
  },
  {
   "cell_type": "code",
   "execution_count": 13,
   "id": "0f4c4488-32b1-463a-b828-1ae6ca6923a4",
   "metadata": {},
   "outputs": [
    {
     "name": "stderr",
     "output_type": "stream",
     "text": [
      "[Stage 13:>                                                         (0 + 1) / 1]\r"
     ]
    },
    {
     "name": "stdout",
     "output_type": "stream",
     "text": [
      "+--------------------+------+--------------------+--------+------+------------+-------------------+\n",
      "|                host|method|            endpoint|protocol|status|content_size|               time|\n",
      "+--------------------+------+--------------------+--------+------+------------+-------------------+\n",
      "|        199.72.81.55|   GET|    /history/apollo/|HTTP/1.0|   200|        6245|1995-07-01 00:00:01|\n",
      "|unicomp6.unicomp.net|   GET| /shuttle/countdown/|HTTP/1.0|   200|        3985|1995-07-01 00:00:06|\n",
      "|      199.120.110.21|   GET|/shuttle/missions...|HTTP/1.0|   200|        4085|1995-07-01 00:00:09|\n",
      "|  burger.letters.com|   GET|/shuttle/countdow...|HTTP/1.0|   304|           0|1995-07-01 00:00:11|\n",
      "|      199.120.110.21|   GET|/shuttle/missions...|HTTP/1.0|   200|        4179|1995-07-01 00:00:11|\n",
      "|  burger.letters.com|   GET|/images/NASA-logo...|HTTP/1.0|   304|           0|1995-07-01 00:00:12|\n",
      "|  burger.letters.com|   GET|/shuttle/countdow...|HTTP/1.0|   200|           0|1995-07-01 00:00:12|\n",
      "|     205.212.115.106|   GET|/shuttle/countdow...|HTTP/1.0|   200|        3985|1995-07-01 00:00:12|\n",
      "|         d104.aa.net|   GET| /shuttle/countdown/|HTTP/1.0|   200|        3985|1995-07-01 00:00:13|\n",
      "|      129.94.144.152|   GET|                   /|HTTP/1.0|   200|        7074|1995-07-01 00:00:13|\n",
      "+--------------------+------+--------------------+--------+------+------------+-------------------+\n",
      "only showing top 10 rows\n",
      "\n"
     ]
    },
    {
     "name": "stderr",
     "output_type": "stream",
     "text": [
      "                                                                                \r"
     ]
    }
   ],
   "source": [
    "# format timpstamp to year-month-date format\n",
    "df = month_to_num(df_clean)\n",
    "df = format_timestamp(df)\n",
    "df.show(10, truncate=True)"
   ]
  },
  {
   "cell_type": "markdown",
   "id": "7e7c62a5-129a-4a98-a45c-74d2769b7cc7",
   "metadata": {},
   "source": [
    "# Data Analysis "
   ]
  },
  {
   "cell_type": "code",
   "execution_count": 16,
   "id": "65915a63",
   "metadata": {},
   "outputs": [],
   "source": [
    "import matplotlib.pyplot as plt\n",
    "import numpy as np\n",
    "import seaborn as sns\n",
    "from pyspark.sql import functions as F\n",
    "%matplotlib inline"
   ]
  },
  {
   "cell_type": "markdown",
   "id": "a8ca9398-ea82-48b5-bbbf-18e24cd57b33",
   "metadata": {},
   "source": [
    "## Content Size"
   ]
  },
  {
   "cell_type": "code",
   "execution_count": 14,
   "id": "911c0ef8-71de-48e0-a667-da19ba40f744",
   "metadata": {},
   "outputs": [
    {
     "name": "stderr",
     "output_type": "stream",
     "text": [
      "                                                                                \r"
     ]
    },
    {
     "data": {
      "text/html": [
       "<div>\n",
       "<style scoped>\n",
       "    .dataframe tbody tr th:only-of-type {\n",
       "        vertical-align: middle;\n",
       "    }\n",
       "\n",
       "    .dataframe tbody tr th {\n",
       "        vertical-align: top;\n",
       "    }\n",
       "\n",
       "    .dataframe thead th {\n",
       "        text-align: right;\n",
       "    }\n",
       "</style>\n",
       "<table border=\"1\" class=\"dataframe\">\n",
       "  <thead>\n",
       "    <tr style=\"text-align: right;\">\n",
       "      <th></th>\n",
       "      <th>summary</th>\n",
       "      <th>content_size</th>\n",
       "    </tr>\n",
       "  </thead>\n",
       "  <tbody>\n",
       "    <tr>\n",
       "      <th>0</th>\n",
       "      <td>count</td>\n",
       "      <td>3461612</td>\n",
       "    </tr>\n",
       "    <tr>\n",
       "      <th>1</th>\n",
       "      <td>mean</td>\n",
       "      <td>18928.844398216785</td>\n",
       "    </tr>\n",
       "    <tr>\n",
       "      <th>2</th>\n",
       "      <td>stddev</td>\n",
       "      <td>73031.47260949228</td>\n",
       "    </tr>\n",
       "    <tr>\n",
       "      <th>3</th>\n",
       "      <td>min</td>\n",
       "      <td>0</td>\n",
       "    </tr>\n",
       "    <tr>\n",
       "      <th>4</th>\n",
       "      <td>max</td>\n",
       "      <td>6823936</td>\n",
       "    </tr>\n",
       "  </tbody>\n",
       "</table>\n",
       "</div>"
      ],
      "text/plain": [
       "  summary        content_size\n",
       "0   count             3461612\n",
       "1    mean  18928.844398216785\n",
       "2  stddev   73031.47260949228\n",
       "3     min                   0\n",
       "4     max             6823936"
      ]
     },
     "execution_count": 14,
     "metadata": {},
     "output_type": "execute_result"
    }
   ],
   "source": [
    "# explore the distribution of content size\n",
    "content_size_summary_df = df.describe(['content_size'])\n",
    "content_size_summary_df.toPandas()"
   ]
  },
  {
   "cell_type": "markdown",
   "id": "0c93c14b-eb13-4662-8db9-14d61b8b6979",
   "metadata": {
    "tags": []
   },
   "source": [
    "## HTTP Status"
   ]
  },
  {
   "cell_type": "code",
   "execution_count": 17,
   "id": "0b9b162f-6fa6-4522-8ac6-19f9df4b0af0",
   "metadata": {},
   "outputs": [],
   "source": [
    "# explore the distribution of HTTP Status\n",
    "\n",
    "def plot_status(df):\n",
    "    status_freq_df = (df\n",
    "                     .groupBy('status')\n",
    "                     .count()\n",
    "                     .sort('status')\n",
    "                     .cache())\n",
    "    status_freq_pd_df = (status_freq_df\n",
    "                         .toPandas()\n",
    "                         .sort_values(by=['count'],\n",
    "                                      ascending=False))\n",
    "    sns.catplot(x='status', y='count', data=status_freq_pd_df, \n",
    "            kind='bar', order=status_freq_pd_df['status'])\n",
    "    return status_freq_df\n",
    "\n",
    "\n",
    "def plot_log_status(df):\n",
    "    status_freq_df = (df\n",
    "                     .groupBy('status')\n",
    "                     .count()\n",
    "                     .sort('status')\n",
    "                     .cache())\n",
    "    log_freq_df = status_freq_df.withColumn('log(count)', F.log(status_freq_df['count']))\n",
    "    log_freq_pd_df = (log_freq_df\n",
    "                         .toPandas()\n",
    "                         .sort_values(by=['log(count)'],\n",
    "                                      ascending=False))\n",
    "    sns.catplot(x='status', y='log(count)', data=log_freq_pd_df, \n",
    "            kind='bar', order=log_freq_pd_df['status'])\n",
    "    return status_freq_df"
   ]
  },
  {
   "cell_type": "code",
   "execution_count": 18,
   "id": "5e8a546f",
   "metadata": {},
   "outputs": [
    {
     "name": "stdout",
     "output_type": "stream",
     "text": [
      "23/06/26 20:45:47 WARN CacheManager: Asked to cache already cached data.\n"
     ]
    },
    {
     "data": {
      "text/plain": [
       "DataFrame[status: int, count: bigint]"
      ]
     },
     "execution_count": 18,
     "metadata": {},
     "output_type": "execute_result"
    },
    {
     "data": {
      "image/png": "[encoded data removed]",
      "text/plain": [
       "<Figure size 500x500 with 1 Axes>"
      ]
     },
     "metadata": {},
     "output_type": "display_data"
    }
   ],
   "source": [
    "# explore the distribution of HTTP Status and order by count\n",
    "\n",
    "plot_status(df)"
   ]
  },
  {
   "cell_type": "code",
   "execution_count": 19,
   "id": "1e02fc2b-5e5b-4c55-b092-ae14365345a9",
   "metadata": {},
   "outputs": [
    {
     "name": "stdout",
     "output_type": "stream",
     "text": [
      "23/06/26 20:47:03 WARN CacheManager: Asked to cache already cached data.\n"
     ]
    },
    {
     "data": {
      "text/plain": [
       "DataFrame[status: int, count: bigint]"
      ]
     },
     "execution_count": 19,
     "metadata": {},
     "output_type": "execute_result"
    },
    {
     "data": {
      "image/png": "[encoded data removed]",
      "text/plain": [
       "<Figure size 500x500 with 1 Axes>"
      ]
     },
     "metadata": {},
     "output_type": "display_data"
    }
   ],
   "source": [
    "# as the skewed distribution, plot count in log scale\n",
    "plot_log_status(df)"
   ]
  },
  {
   "cell_type": "markdown",
   "id": "1c58d631-56cd-4c5a-ab44-e1df2d7a9949",
   "metadata": {},
   "source": [
    "## Frequent Host\n",
    "Count the accesses by each host, ordered and obtain the top 10"
   ]
  },
  {
   "cell_type": "code",
   "execution_count": 20,
   "id": "0424f14c-4824-4521-b093-1b59b84ccd51",
   "metadata": {},
   "outputs": [
    {
     "name": "stderr",
     "output_type": "stream",
     "text": [
      "[Stage 28:=============================>                            (1 + 1) / 2]\r"
     ]
    },
    {
     "name": "stdout",
     "output_type": "stream",
     "text": [
      "+--------------------+-----+\n",
      "|host                |count|\n",
      "+--------------------+-----+\n",
      "|piweba3y.prodigy.com|21988|\n",
      "|piweba4y.prodigy.com|16437|\n",
      "|piweba1y.prodigy.com|12825|\n",
      "|edams.ksc.nasa.gov  |11964|\n",
      "|163.206.89.4        |9697 |\n",
      "+--------------------+-----+\n",
      "\n"
     ]
    },
    {
     "name": "stderr",
     "output_type": "stream",
     "text": [
      "                                                                                \r"
     ]
    }
   ],
   "source": [
    "top_host(df, 5).show(truncate=False)"
   ]
  },
  {
   "cell_type": "markdown",
   "id": "4637c769-52f8-47c3-abb9-af478a79e2cc",
   "metadata": {},
   "source": [
    "## Top EndPoint \n",
    "Explore the top frequent endpoints"
   ]
  },
  {
   "cell_type": "code",
   "execution_count": 21,
   "id": "eb2068d7-c468-411b-8bf0-9f328c186aed",
   "metadata": {},
   "outputs": [
    {
     "name": "stderr",
     "output_type": "stream",
     "text": [
      "[Stage 32:=============================>                            (1 + 1) / 2]\r"
     ]
    },
    {
     "name": "stdout",
     "output_type": "stream",
     "text": [
      "+---------------------------------------+------+\n",
      "|endpoint                               |count |\n",
      "+---------------------------------------+------+\n",
      "|/images/NASA-logosmall.gif             |208714|\n",
      "|/images/KSC-logosmall.gif              |164970|\n",
      "|/images/MOSAIC-logosmall.gif           |127908|\n",
      "|/images/USA-logosmall.gif              |127074|\n",
      "|/images/WORLD-logosmall.gif            |125925|\n",
      "|/images/ksclogo-medium.gif             |121572|\n",
      "|/ksc.html                              |83909 |\n",
      "|/images/launch-logo.gif                |76006 |\n",
      "|/history/apollo/images/apollo-logo1.gif|68896 |\n",
      "|/shuttle/countdown/                    |64736 |\n",
      "+---------------------------------------+------+\n",
      "\n"
     ]
    },
    {
     "name": "stderr",
     "output_type": "stream",
     "text": [
      "                                                                                \r"
     ]
    }
   ],
   "source": [
    "top_endpoint(df,10).show(truncate=False)"
   ]
  },
  {
   "cell_type": "markdown",
   "id": "82256ae6",
   "metadata": {},
   "source": [
    "## Total number of unique host\n",
    "get the unique host and cout the total number"
   ]
  },
  {
   "cell_type": "code",
   "execution_count": 22,
   "id": "7d0bfdc1",
   "metadata": {},
   "outputs": [
    {
     "name": "stderr",
     "output_type": "stream",
     "text": [
      "                                                                                \r"
     ]
    },
    {
     "data": {
      "text/plain": [
       "137933"
      ]
     },
     "execution_count": 22,
     "metadata": {},
     "output_type": "execute_result"
    }
   ],
   "source": [
    "df.select('host').distinct().count()"
   ]
  },
  {
   "cell_type": "markdown",
   "id": "e650283f",
   "metadata": {},
   "source": [
    "## Number of unique daily hosts\n",
    "Explore the unique host of each day of month"
   ]
  },
  {
   "cell_type": "code",
   "execution_count": 28,
   "id": "9dcfb6ab",
   "metadata": {},
   "outputs": [
    {
     "name": "stderr",
     "output_type": "stream",
     "text": [
      "[Stage 46:=============================>                            (1 + 1) / 2]\r"
     ]
    },
    {
     "name": "stdout",
     "output_type": "stream",
     "text": [
      "+---+-----+\n",
      "|day|count|\n",
      "+---+-----+\n",
      "|1  |7609 |\n",
      "|2  |4858 |\n",
      "|3  |10238|\n",
      "|4  |9411 |\n",
      "|5  |9640 |\n",
      "|6  |10133|\n",
      "|7  |10048|\n",
      "|8  |7112 |\n",
      "|9  |6699 |\n",
      "|10 |8532 |\n",
      "|11 |8786 |\n",
      "|12 |8135 |\n",
      "|13 |9567 |\n",
      "|14 |9302 |\n",
      "|15 |7126 |\n",
      "|16 |7143 |\n",
      "|17 |8840 |\n",
      "|18 |8262 |\n",
      "|19 |7237 |\n",
      "|20 |7072 |\n",
      "+---+-----+\n",
      "only showing top 20 rows\n",
      "\n"
     ]
    },
    {
     "name": "stderr",
     "output_type": "stream",
     "text": [
      "                                                                                \r"
     ]
    }
   ],
   "source": [
    "# get the month of day\n",
    "host_day_df = df.select(df.host, F.dayofmonth('time').alias('day'))\n",
    "host_day_distinct_df = (host_day_df.dropDuplicates())\n",
    "# aggregate by the day of month\n",
    "daily_hosts_df = (host_day_distinct_df\n",
    "                     .groupBy('day')\n",
    "                     .count()\n",
    "                     .sort(\"day\"))\n",
    "daily_hosts_df.show(truncate=False)"
   ]
  },
  {
   "cell_type": "code",
   "execution_count": 29,
   "id": "4db00cbf",
   "metadata": {},
   "outputs": [
    {
     "name": "stderr",
     "output_type": "stream",
     "text": [
      "                                                                                \r"
     ]
    },
    {
     "data": {
      "image/png": "[encoded data removed]",
      "text/plain": [
       "<Figure size 750x500 with 1 Axes>"
      ]
     },
     "metadata": {},
     "output_type": "display_data"
    }
   ],
   "source": [
    "# plot the distribution of daily unique host\n",
    "daily_hosts_df = daily_hosts_df.toPandas()\n",
    "c = sns.catplot(x='day', y='count', \n",
    "                data=daily_hosts_df, \n",
    "                kind='point', height=5, \n",
    "                aspect=1.5)"
   ]
  },
  {
   "cell_type": "markdown",
   "id": "b8b2117d",
   "metadata": {},
   "source": [
    "## Average Number of daily request per host \n",
    "explore the average request number for each host"
   ]
  },
  {
   "cell_type": "code",
   "execution_count": 34,
   "id": "8379901a",
   "metadata": {},
   "outputs": [
    {
     "name": "stderr",
     "output_type": "stream",
     "text": [
      "                                                                                \r"
     ]
    },
    {
     "data": {
      "text/html": [
       "<div>\n",
       "<style scoped>\n",
       "    .dataframe tbody tr th:only-of-type {\n",
       "        vertical-align: middle;\n",
       "    }\n",
       "\n",
       "    .dataframe tbody tr th {\n",
       "        vertical-align: top;\n",
       "    }\n",
       "\n",
       "    .dataframe thead th {\n",
       "        text-align: right;\n",
       "    }\n",
       "</style>\n",
       "<table border=\"1\" class=\"dataframe\">\n",
       "  <thead>\n",
       "    <tr style=\"text-align: right;\">\n",
       "      <th></th>\n",
       "      <th>day</th>\n",
       "      <th>total_reqs</th>\n",
       "      <th>total_hosts</th>\n",
       "      <th>avg_reqs</th>\n",
       "    </tr>\n",
       "  </thead>\n",
       "  <tbody>\n",
       "    <tr>\n",
       "      <th>0</th>\n",
       "      <td>1</td>\n",
       "      <td>98710</td>\n",
       "      <td>7609</td>\n",
       "      <td>12.972795</td>\n",
       "    </tr>\n",
       "    <tr>\n",
       "      <th>1</th>\n",
       "      <td>2</td>\n",
       "      <td>60265</td>\n",
       "      <td>4858</td>\n",
       "      <td>12.405311</td>\n",
       "    </tr>\n",
       "    <tr>\n",
       "      <th>2</th>\n",
       "      <td>3</td>\n",
       "      <td>130972</td>\n",
       "      <td>10238</td>\n",
       "      <td>12.792733</td>\n",
       "    </tr>\n",
       "    <tr>\n",
       "      <th>3</th>\n",
       "      <td>4</td>\n",
       "      <td>130009</td>\n",
       "      <td>9411</td>\n",
       "      <td>13.814579</td>\n",
       "    </tr>\n",
       "    <tr>\n",
       "      <th>4</th>\n",
       "      <td>5</td>\n",
       "      <td>126468</td>\n",
       "      <td>9640</td>\n",
       "      <td>13.119087</td>\n",
       "    </tr>\n",
       "    <tr>\n",
       "      <th>5</th>\n",
       "      <td>6</td>\n",
       "      <td>133380</td>\n",
       "      <td>10133</td>\n",
       "      <td>13.162933</td>\n",
       "    </tr>\n",
       "    <tr>\n",
       "      <th>6</th>\n",
       "      <td>7</td>\n",
       "      <td>144595</td>\n",
       "      <td>10048</td>\n",
       "      <td>14.390426</td>\n",
       "    </tr>\n",
       "    <tr>\n",
       "      <th>7</th>\n",
       "      <td>8</td>\n",
       "      <td>99024</td>\n",
       "      <td>7112</td>\n",
       "      <td>13.923510</td>\n",
       "    </tr>\n",
       "    <tr>\n",
       "      <th>8</th>\n",
       "      <td>9</td>\n",
       "      <td>95730</td>\n",
       "      <td>6699</td>\n",
       "      <td>14.290193</td>\n",
       "    </tr>\n",
       "    <tr>\n",
       "      <th>9</th>\n",
       "      <td>10</td>\n",
       "      <td>134108</td>\n",
       "      <td>8532</td>\n",
       "      <td>15.718237</td>\n",
       "    </tr>\n",
       "    <tr>\n",
       "      <th>10</th>\n",
       "      <td>11</td>\n",
       "      <td>141653</td>\n",
       "      <td>8786</td>\n",
       "      <td>16.122581</td>\n",
       "    </tr>\n",
       "    <tr>\n",
       "      <th>11</th>\n",
       "      <td>12</td>\n",
       "      <td>130607</td>\n",
       "      <td>8135</td>\n",
       "      <td>16.054948</td>\n",
       "    </tr>\n",
       "    <tr>\n",
       "      <th>12</th>\n",
       "      <td>13</td>\n",
       "      <td>170683</td>\n",
       "      <td>9567</td>\n",
       "      <td>17.840807</td>\n",
       "    </tr>\n",
       "    <tr>\n",
       "      <th>13</th>\n",
       "      <td>14</td>\n",
       "      <td>143981</td>\n",
       "      <td>9302</td>\n",
       "      <td>15.478499</td>\n",
       "    </tr>\n",
       "    <tr>\n",
       "      <th>14</th>\n",
       "      <td>15</td>\n",
       "      <td>104379</td>\n",
       "      <td>7126</td>\n",
       "      <td>14.647628</td>\n",
       "    </tr>\n",
       "    <tr>\n",
       "      <th>15</th>\n",
       "      <td>16</td>\n",
       "      <td>104507</td>\n",
       "      <td>7143</td>\n",
       "      <td>14.630687</td>\n",
       "    </tr>\n",
       "    <tr>\n",
       "      <th>16</th>\n",
       "      <td>17</td>\n",
       "      <td>133969</td>\n",
       "      <td>8840</td>\n",
       "      <td>15.154864</td>\n",
       "    </tr>\n",
       "    <tr>\n",
       "      <th>17</th>\n",
       "      <td>18</td>\n",
       "      <td>120528</td>\n",
       "      <td>8262</td>\n",
       "      <td>14.588235</td>\n",
       "    </tr>\n",
       "    <tr>\n",
       "      <th>18</th>\n",
       "      <td>19</td>\n",
       "      <td>104832</td>\n",
       "      <td>7237</td>\n",
       "      <td>14.485560</td>\n",
       "    </tr>\n",
       "    <tr>\n",
       "      <th>19</th>\n",
       "      <td>20</td>\n",
       "      <td>99556</td>\n",
       "      <td>7072</td>\n",
       "      <td>14.077489</td>\n",
       "    </tr>\n",
       "    <tr>\n",
       "      <th>20</th>\n",
       "      <td>21</td>\n",
       "      <td>120169</td>\n",
       "      <td>8036</td>\n",
       "      <td>14.953833</td>\n",
       "    </tr>\n",
       "    <tr>\n",
       "      <th>21</th>\n",
       "      <td>22</td>\n",
       "      <td>93029</td>\n",
       "      <td>6828</td>\n",
       "      <td>13.624634</td>\n",
       "    </tr>\n",
       "    <tr>\n",
       "      <th>22</th>\n",
       "      <td>23</td>\n",
       "      <td>97296</td>\n",
       "      <td>6797</td>\n",
       "      <td>14.314551</td>\n",
       "    </tr>\n",
       "    <tr>\n",
       "      <th>23</th>\n",
       "      <td>24</td>\n",
       "      <td>116811</td>\n",
       "      <td>7946</td>\n",
       "      <td>14.700604</td>\n",
       "    </tr>\n",
       "    <tr>\n",
       "      <th>24</th>\n",
       "      <td>25</td>\n",
       "      <td>120020</td>\n",
       "      <td>8333</td>\n",
       "      <td>14.402976</td>\n",
       "    </tr>\n",
       "    <tr>\n",
       "      <th>25</th>\n",
       "      <td>26</td>\n",
       "      <td>90457</td>\n",
       "      <td>6741</td>\n",
       "      <td>13.418929</td>\n",
       "    </tr>\n",
       "    <tr>\n",
       "      <th>26</th>\n",
       "      <td>27</td>\n",
       "      <td>94503</td>\n",
       "      <td>6846</td>\n",
       "      <td>13.804119</td>\n",
       "    </tr>\n",
       "    <tr>\n",
       "      <th>27</th>\n",
       "      <td>28</td>\n",
       "      <td>82617</td>\n",
       "      <td>6090</td>\n",
       "      <td>13.566010</td>\n",
       "    </tr>\n",
       "    <tr>\n",
       "      <th>28</th>\n",
       "      <td>29</td>\n",
       "      <td>67988</td>\n",
       "      <td>4825</td>\n",
       "      <td>14.090777</td>\n",
       "    </tr>\n",
       "    <tr>\n",
       "      <th>29</th>\n",
       "      <td>30</td>\n",
       "      <td>80641</td>\n",
       "      <td>5265</td>\n",
       "      <td>15.316429</td>\n",
       "    </tr>\n",
       "    <tr>\n",
       "      <th>30</th>\n",
       "      <td>31</td>\n",
       "      <td>90125</td>\n",
       "      <td>5913</td>\n",
       "      <td>15.241840</td>\n",
       "    </tr>\n",
       "  </tbody>\n",
       "</table>\n",
       "</div>"
      ],
      "text/plain": [
       "    day  total_reqs  total_hosts   avg_reqs\n",
       "0     1       98710         7609  12.972795\n",
       "1     2       60265         4858  12.405311\n",
       "2     3      130972        10238  12.792733\n",
       "3     4      130009         9411  13.814579\n",
       "4     5      126468         9640  13.119087\n",
       "5     6      133380        10133  13.162933\n",
       "6     7      144595        10048  14.390426\n",
       "7     8       99024         7112  13.923510\n",
       "8     9       95730         6699  14.290193\n",
       "9    10      134108         8532  15.718237\n",
       "10   11      141653         8786  16.122581\n",
       "11   12      130607         8135  16.054948\n",
       "12   13      170683         9567  17.840807\n",
       "13   14      143981         9302  15.478499\n",
       "14   15      104379         7126  14.647628\n",
       "15   16      104507         7143  14.630687\n",
       "16   17      133969         8840  15.154864\n",
       "17   18      120528         8262  14.588235\n",
       "18   19      104832         7237  14.485560\n",
       "19   20       99556         7072  14.077489\n",
       "20   21      120169         8036  14.953833\n",
       "21   22       93029         6828  13.624634\n",
       "22   23       97296         6797  14.314551\n",
       "23   24      116811         7946  14.700604\n",
       "24   25      120020         8333  14.402976\n",
       "25   26       90457         6741  13.418929\n",
       "26   27       94503         6846  13.804119\n",
       "27   28       82617         6090  13.566010\n",
       "28   29       67988         4825  14.090777\n",
       "29   30       80641         5265  15.316429\n",
       "30   31       90125         5913  15.241840"
      ]
     },
     "execution_count": 34,
     "metadata": {},
     "output_type": "execute_result"
    }
   ],
   "source": [
    "\n",
    "# total number of host per day\n",
    "daily_hosts_df = (host_day_distinct_df\n",
    "                     .groupBy('day')\n",
    "                     .count()\n",
    "                     .select(col(\"day\"), \n",
    "                                      col(\"count\").alias(\"total_hosts\")))\n",
    "# total number of requests\n",
    "total_daily_reqests_df = (df\n",
    "                              .select(F.dayofmonth(\"time\")\n",
    "                                          .alias(\"day\"))\n",
    "                              .groupBy(\"day\")\n",
    "                              .count()\n",
    "                              .select(col(\"day\"), \n",
    "                                      col(\"count\").alias(\"total_reqs\")))\n",
    "# get the average daily request per host by total requests / total hosts\n",
    "avg_daily_reqests_per_host_df = total_daily_reqests_df.join(daily_hosts_df, 'day')\n",
    "avg_daily_reqests_per_host_df = (avg_daily_reqests_per_host_df\n",
    "                                    .withColumn('avg_reqs', col('total_reqs') / col('total_hosts'))\n",
    "                                    .sort(\"day\"))\n",
    "avg_daily_reqests_per_host_df = avg_daily_reqests_per_host_df.toPandas()\n",
    "avg_daily_reqests_per_host_df"
   ]
  },
  {
   "cell_type": "code",
   "execution_count": 35,
   "id": "478a4750",
   "metadata": {},
   "outputs": [
    {
     "data": {
      "image/png": "[encoded data removed]",
      "text/plain": [
       "<Figure size 750x500 with 1 Axes>"
      ]
     },
     "metadata": {},
     "output_type": "display_data"
    }
   ],
   "source": [
    "# plot the result\n",
    "c = sns.catplot(x='day', y='avg_reqs', \n",
    "                data=avg_daily_reqests_per_host_df, \n",
    "                kind='point', height=5, aspect=1.5)"
   ]
  },
  {
   "cell_type": "markdown",
   "id": "76f4fd69",
   "metadata": {},
   "source": [
    "## 404 response\n",
    "Filter the 404 responses "
   ]
  },
  {
   "cell_type": "markdown",
   "id": "cb3ba903",
   "metadata": {},
   "source": [
    "### Total Count"
   ]
  },
  {
   "cell_type": "code",
   "execution_count": 43,
   "id": "f51b23a5",
   "metadata": {},
   "outputs": [
    {
     "name": "stdout",
     "output_type": "stream",
     "text": [
      "23/06/26 21:20:17 WARN CacheManager: Asked to cache already cached data.\n",
      "Total 404 responses: 20899\n"
     ]
    }
   ],
   "source": [
    "# cache the result RDD, since we will use it repeately\n",
    "not_found_df = df.filter(df[\"status\"] == 404).cache()\n",
    "print(('Total 404 responses: {}').format(not_found_df.count()))"
   ]
  },
  {
   "cell_type": "markdown",
   "id": "5a0781c7",
   "metadata": {},
   "source": [
    "### Top 404 Response Code Endpoints\n",
    "Filter the 404 responses and aggregate by endpoints"
   ]
  },
  {
   "cell_type": "code",
   "execution_count": 38,
   "id": "7000503d",
   "metadata": {},
   "outputs": [
    {
     "name": "stdout",
     "output_type": "stream",
     "text": [
      "+-----------------------------------------------------------------+-----+\n",
      "|endpoint                                                         |count|\n",
      "+-----------------------------------------------------------------+-----+\n",
      "|/pub/winvn/readme.txt                                            |2004 |\n",
      "|/pub/winvn/release.txt                                           |1732 |\n",
      "|/shuttle/missions/STS-69/mission-STS-69.html                     |683  |\n",
      "|/shuttle/missions/sts-68/ksc-upclose.gif                         |428  |\n",
      "|/history/apollo/a-001/a-001-patch-small.gif                      |384  |\n",
      "|/history/apollo/sa-1/sa-1-patch-small.gif                        |383  |\n",
      "|/://spacelink.msfc.nasa.gov                                      |381  |\n",
      "|/images/crawlerway-logo.gif                                      |374  |\n",
      "|/elv/DELTA/uncons.htm                                            |372  |\n",
      "|/history/apollo/pad-abort-test-1/pad-abort-test-1-patch-small.gif|359  |\n",
      "|/images/nasa-logo.gif                                            |319  |\n",
      "|/shuttle/resources/orbiters/atlantis.gif                         |314  |\n",
      "|/history/apollo/apollo-13.html                                   |304  |\n",
      "|/shuttle/resources/orbiters/discovery.gif                        |263  |\n",
      "|/shuttle/missions/sts-71/images/KSC-95EC-0916.txt                |190  |\n",
      "|/shuttle/resources/orbiters/challenger.gif                       |170  |\n",
      "|/shuttle/missions/technology/sts-newsref/stsref-toc.html         |158  |\n",
      "|/history/apollo/images/little-joe.jpg                            |150  |\n",
      "|/images/lf-logo.gif                                              |143  |\n",
      "|/history/apollo/publications/sp-350/sp-350.txt~                  |140  |\n",
      "+-----------------------------------------------------------------+-----+\n",
      "\n"
     ]
    }
   ],
   "source": [
    "\n",
    "endpoints_404_count_df = (not_found_df\n",
    "                          .groupBy(\"endpoint\")\n",
    "                          .count()\n",
    "                          .sort(\"count\", ascending=False)\n",
    "                          .limit(20))\n",
    "\n",
    "endpoints_404_count_df.show(truncate=False)"
   ]
  },
  {
   "cell_type": "markdown",
   "id": "cbe4fd66",
   "metadata": {},
   "source": [
    "### Top 404 Response Code Hosts\n",
    "Filter the 404 responses and aggregate by host"
   ]
  },
  {
   "cell_type": "code",
   "execution_count": 39,
   "id": "84597056",
   "metadata": {},
   "outputs": [
    {
     "name": "stdout",
     "output_type": "stream",
     "text": [
      "+---------------------------+-----+\n",
      "|host                       |count|\n",
      "+---------------------------+-----+\n",
      "|hoohoo.ncsa.uiuc.edu       |251  |\n",
      "|piweba3y.prodigy.com       |157  |\n",
      "|jbiagioni.npt.nuwc.navy.mil|132  |\n",
      "|piweba1y.prodigy.com       |114  |\n",
      "|                           |112  |\n",
      "|www-d4.proxy.aol.com       |91   |\n",
      "|piweba4y.prodigy.com       |86   |\n",
      "|scooter.pa-x.dec.com       |69   |\n",
      "|www-d1.proxy.aol.com       |64   |\n",
      "|phaelon.ksc.nasa.gov       |64   |\n",
      "|www-b4.proxy.aol.com       |62   |\n",
      "|dialip-217.den.mmc.com     |62   |\n",
      "|www-b3.proxy.aol.com       |61   |\n",
      "|www-a2.proxy.aol.com       |60   |\n",
      "|piweba2y.prodigy.com       |59   |\n",
      "|www-d2.proxy.aol.com       |59   |\n",
      "|alyssa.prodigy.com         |56   |\n",
      "|monarch.eng.buffalo.edu    |56   |\n",
      "|www-b2.proxy.aol.com       |53   |\n",
      "|www-c4.proxy.aol.com       |53   |\n",
      "+---------------------------+-----+\n",
      "\n"
     ]
    }
   ],
   "source": [
    "\n",
    "hosts_404_count_df = (not_found_df\n",
    "                          .groupBy(\"host\")\n",
    "                          .count()\n",
    "                          .sort(\"count\", ascending=False)\n",
    "                          .limit(20))\n",
    "\n",
    "hosts_404_count_df.show(truncate=False)"
   ]
  },
  {
   "cell_type": "markdown",
   "id": "e40273fd",
   "metadata": {},
   "source": [
    "### 404 errors per day"
   ]
  },
  {
   "cell_type": "code",
   "execution_count": 40,
   "id": "236c461d",
   "metadata": {},
   "outputs": [],
   "source": [
    "# get the 404 errors count by day\n",
    "errors_by_date_sorted_df = (not_found_df\n",
    "                                .groupBy(F.dayofmonth('time').alias('day'))\n",
    "                                .count()\n",
    "                                .sort(\"day\"))\n",
    "\n",
    "errors_by_date_sorted_pd_df = errors_by_date_sorted_df.toPandas()"
   ]
  },
  {
   "cell_type": "code",
   "execution_count": 41,
   "id": "ce354ab8",
   "metadata": {},
   "outputs": [
    {
     "data": {
      "image/png": "[encoded data removed]",
      "text/plain": [
       "<Figure size 750x500 with 1 Axes>"
      ]
     },
     "metadata": {},
     "output_type": "display_data"
    }
   ],
   "source": [
    "\n",
    "c = sns.catplot(x='day', y='count', \n",
    "                data=errors_by_date_sorted_pd_df, \n",
    "                kind='point', height=5, aspect=1.5)"
   ]
  },
  {
   "cell_type": "markdown",
   "id": "dbb85264",
   "metadata": {},
   "source": [
    "### top 404 responses days\n",
    "get the top three days with 404 errors"
   ]
  },
  {
   "cell_type": "code",
   "execution_count": 42,
   "id": "ddbd4805",
   "metadata": {},
   "outputs": [
    {
     "name": "stdout",
     "output_type": "stream",
     "text": [
      "+---+-----+\n",
      "|day|count|\n",
      "+---+-----+\n",
      "|  7| 1107|\n",
      "|  6| 1013|\n",
      "| 25|  876|\n",
      "+---+-----+\n",
      "only showing top 3 rows\n",
      "\n"
     ]
    }
   ],
   "source": [
    "(errors_by_date_sorted_df\n",
    "    .sort(\"count\", ascending=False)\n",
    "    .show(3))"
   ]
  },
  {
   "cell_type": "markdown",
   "id": "2b524024",
   "metadata": {},
   "source": [
    "### distribution of 404 errors count by hour\n",
    "obtain hour information from time stamp and aggregate by hour"
   ]
  },
  {
   "cell_type": "code",
   "execution_count": 44,
   "id": "f8e2649f",
   "metadata": {},
   "outputs": [
    {
     "data": {
      "image/png": "[encoded data removed]",
      "text/plain": [
       "<Figure size 750x500 with 1 Axes>"
      ]
     },
     "metadata": {},
     "output_type": "display_data"
    }
   ],
   "source": [
    "hourly_avg_errors_sorted_df = (not_found_df\n",
    "                                   .groupBy(F.hour('time')\n",
    "                                             .alias('hour'))\n",
    "                                   .count()\n",
    "                                   .sort('hour'))\n",
    "hourly_avg_errors_sorted_pd_df = hourly_avg_errors_sorted_df.toPandas()\n",
    "\n",
    "c = sns.catplot(x='hour', y='count', \n",
    "                data=hourly_avg_errors_sorted_pd_df, \n",
    "                kind='bar', height=5, aspect=1.5)"
   ]
  },
  {
   "cell_type": "markdown",
   "id": "fa765942-b98c-4a65-ae0a-6b8602263f03",
   "metadata": {},
   "source": [
    "## 3.1 Top EndPoints by day of week\n",
    "Get the day of week from timestamp, \n",
    "group by the day of week and host,\n",
    "and use the window function get the top endpoint with the most count(rank 1) when partitioned by the day of week.   \n",
    "The function is in the transformation.py."
   ]
  },
  {
   "cell_type": "code",
   "execution_count": 45,
   "id": "625fb569-70eb-4259-897d-4043eed42cea",
   "metadata": {},
   "outputs": [
    {
     "name": "stderr",
     "output_type": "stream",
     "text": [
      "                                                                                \r"
     ]
    },
    {
     "name": "stdout",
     "output_type": "stream",
     "text": [
      "+--------------------------+-----+-------------+\n",
      "|endpoint                  |count|Day in a week|\n",
      "+--------------------------+-----+-------------+\n",
      "|/images/KSC-logosmall.gif |15218|Sunday       |\n",
      "|/images/NASA-logosmall.gif|30380|Monday       |\n",
      "|/images/NASA-logosmall.gif|33685|Tuesday      |\n",
      "|/images/NASA-logosmall.gif|37598|Wednesday    |\n",
      "|/images/NASA-logosmall.gif|46920|Thursday     |\n",
      "|/images/NASA-logosmall.gif|29139|Friday       |\n",
      "|/images/NASA-logosmall.gif|16168|Saturday     |\n",
      "+--------------------------+-----+-------------+\n",
      "\n"
     ]
    },
    {
     "name": "stderr",
     "output_type": "stream",
     "text": [
      "                                                                                \r"
     ]
    }
   ],
   "source": [
    "result = top_endpoint_by_day(df)\n",
    "result.show(7, truncate=False)"
   ]
  },
  {
   "cell_type": "markdown",
   "id": "2804d199-9042-4607-bd87-a28cd2339058",
   "metadata": {},
   "source": [
    "## 3.2 404 status count by day of week\n",
    "Filter the records with 404 status and groupby the day of week"
   ]
  },
  {
   "cell_type": "code",
   "execution_count": 46,
   "id": "cf9a947c-0a03-43ae-b771-fcc10a071558",
   "metadata": {},
   "outputs": [
    {
     "name": "stdout",
     "output_type": "stream",
     "text": [
      "+-----+-------------+\n",
      "|count|Day in a week|\n",
      "+-----+-------------+\n",
      "|2400 |Sunday       |\n",
      "|3145 |Monday       |\n",
      "|3425 |Tuesday      |\n",
      "|3397 |Wednesday    |\n",
      "|3772 |Thursday     |\n",
      "|2691 |Friday       |\n",
      "|2069 |Saturday     |\n",
      "+-----+-------------+\n",
      "\n"
     ]
    }
   ],
   "source": [
    "error_by_day = error_count_by_day(df)\n",
    "error_by_day.show(7, truncate=False)"
   ]
  },
  {
   "cell_type": "code",
   "execution_count": 47,
   "id": "c3202272-cc35-466e-a690-d98b858a033c",
   "metadata": {},
   "outputs": [
    {
     "data": {
      "text/plain": [
       "<seaborn.axisgrid.FacetGrid at 0x7f953b4d7df0>"
      ]
     },
     "execution_count": 47,
     "metadata": {},
     "output_type": "execute_result"
    },
    {
     "data": {
      "image/png": "[encoded data removed]",
      "text/plain": [
       "<Figure size 750x500 with 1 Axes>"
      ]
     },
     "metadata": {},
     "output_type": "display_data"
    },
    {
     "name": "stdout",
     "output_type": "stream",
     "text": [
      "23/06/26 23:45:24 WARN HeartbeatReceiver: Removing executor driver with no recent heartbeats: 926334 ms exceeds timeout 120000 ms\n",
      "23/06/26 23:45:24 WARN SparkContext: Killing executors is not supported by current scheduler.\n"
     ]
    }
   ],
   "source": [
    "sns.catplot(x='Day in a week', y='count', \n",
    "                data=error_by_day.toPandas(), \n",
    "                kind='point', height=5, \n",
    "                aspect=1.5)"
   ]
  },
  {
   "cell_type": "code",
   "execution_count": null,
   "id": "a8ad0967-8fcc-4432-9e46-908da52d7cd4",
   "metadata": {},
   "outputs": [],
   "source": []
  }
 ],
 "metadata": {
  "kernelspec": {
   "display_name": "Python 3 (ipykernel)",
   "language": "python",
   "name": "python3"
  },
  "language_info": {
   "codemirror_mode": {
    "name": "ipython",
    "version": 3
   },
   "file_extension": ".py",
   "mimetype": "text/x-python",
   "name": "python",
   "nbconvert_exporter": "python",
   "pygments_lexer": "ipython3",
   "version": "3.10.0"
  },
  "vscode": {
   "interpreter": {
    "hash": "875630463e727eb6d1f113f5f2b11c44a0bbaee6b675d5316fe937804e614cda"
   }
  }
 },
 "nbformat": 4,
 "nbformat_minor": 5
}
