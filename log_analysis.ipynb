{
 "cells": [
  {
   "cell_type": "code",
   "execution_count": 1,
   "id": "94f09b7e-322e-4200-b30c-cf15e83d6d19",
   "metadata": {},
   "outputs": [
    {
     "name": "stdout",
     "output_type": "stream",
     "text": [
      "23/06/22 00:17:07 WARN Utils: Your hostname, Xinyis-MacBook-Air.local resolves to a loopback address: 127.0.0.1; using 192.168.0.201 instead (on interface en0)\n",
      "23/06/22 00:17:07 WARN Utils: Set SPARK_LOCAL_IP if you need to bind to another address\n"
     ]
    },
    {
     "name": "stderr",
     "output_type": "stream",
     "text": [
      "Setting default log level to \"WARN\".\n",
      "To adjust logging level use sc.setLogLevel(newLevel). For SparkR, use setLogLevel(newLevel).\n"
     ]
    },
    {
     "name": "stdout",
     "output_type": "stream",
     "text": [
      "23/06/22 00:17:07 WARN NativeCodeLoader: Unable to load native-hadoop library for your platform... using builtin-java classes where applicable\n",
      "23/06/22 00:17:08 WARN Utils: Service 'SparkUI' could not bind on port 4040. Attempting port 4041.\n",
      "23/06/22 00:17:08 WARN Utils: Service 'SparkUI' could not bind on port 4041. Attempting port 4042.\n"
     ]
    },
    {
     "name": "stderr",
     "output_type": "stream",
     "text": [
      "/Users/jwang/opt/anaconda3/envs/DDS/lib/python3.10/site-packages/pyspark/sql/context.py:112: FutureWarning: Deprecated in 3.0.0. Use SparkSession.builder.getOrCreate() instead.\n",
      "  warnings.warn(\n"
     ]
    }
   ],
   "source": [
    "from pyspark.context import SparkContext\n",
    "from pyspark.sql.context import SQLContext\n",
    "from pyspark.sql.session import SparkSession\n",
    "\n",
    "import re\n",
    "import pandas as pd\n",
    "    \n",
    "sc = SparkContext()\n",
    "sqlContext = SQLContext(sc)\n",
    "spark = SparkSession(sc)"
   ]
  },
  {
   "cell_type": "code",
   "execution_count": 2,
   "id": "34cb229e-8f64-4ef8-bf9b-7f3deea41224",
   "metadata": {},
   "outputs": [],
   "source": [
    "from nasa_transformation import *"
   ]
  },
  {
   "cell_type": "markdown",
   "id": "e4317d13-5401-4675-8e3a-0a5738550a13",
   "metadata": {},
   "source": [
    "# Loading and Parsing Log Dataset"
   ]
  },
  {
   "cell_type": "code",
   "execution_count": 3,
   "id": "baebb698-e235-4943-b7c7-0857b0ebbb0a",
   "metadata": {},
   "outputs": [
    {
     "name": "stderr",
     "output_type": "stream",
     "text": [
      "                                                                                \r"
     ]
    },
    {
     "data": {
      "text/plain": [
       "[Row(value='168.178.113.108 - - [2004-05-18 05:58:48] \"GET /Archives/edgar/data/0001439124/000129281422000854/ HTTP/1.0\" 500 14101'),\n",
       " Row(value='197.154.19.231 - - [2019-09-12 00:33:03] \"PUT /Archives/edgar/data/0001129068/000095013122003743/narot19cabsee_0818-1508.htm HTTP/1.0\" 404 23637'),\n",
       " Row(value='163.4.211.40 - - [2010-04-24 06:34:14] \"PUT /Archives/edgar/data/1319616/000120919119019599/0001209191-19-019599-index.htm HTTP/1.0\" 200 31769'),\n",
       " Row(value='203.56.169.197 - - [2011-08-15 10:57:37] \"DELETE /Archives/edgar/data/0001439124/000129281422000790/ HTTP/1.0\" 303 56873'),\n",
       " Row(value='9.77.249.198 - - [2006-07-18 03:11:42] \"POST /Archives/edgar/data/1390098/000121390023023295/0001213900-23-023295.txt HTTP/1.0\" 404 13877'),\n",
       " Row(value='170.71.241.10 - - [2010-11-24 11:15:38] \"POST /Archives/edgar/data/0001326380/000132638023000019/MetaLinks.json HTTP/1.0\" 303 38517'),\n",
       " Row(value='144.93.178.6 - - [2019-05-06 06:46:48] \"DELETE /Archives/edgar/data/0001439124/000129281422000790/ HTTP/1.0\" 303 36675'),\n",
       " Row(value='184.123.181.252 - - [2009-06-29 11:34:15] \"GET /Archives/edgar/data/0001468457/000093247112005362/0000932471-12-005362.txt HTTP/1.0\" 404 58964'),\n",
       " Row(value='173.237.40.174 - - [2016-02-18 11:10:45] \"POST /Archives/edgar/data/0001675033/000156459021054728/0001564590-21-054728.txt HTTP/1.0\" 304 2020'),\n",
       " Row(value='49.212.141.9 - - [2010-12-02 03:21:49] \"GET /Archives/edgar/data/315189/0001104659-12-037687.txt HTTP/1.0\" 304 19825')]"
      ]
     },
     "execution_count": 3,
     "metadata": {},
     "output_type": "execute_result"
    }
   ],
   "source": [
    "input_file_path = 'data/40MBFile.log'\n",
    "input_df = spark.read.text(input_file_path)\n",
    "input_df.take(10)"
   ]
  },
  {
   "cell_type": "code",
   "execution_count": 7,
   "id": "170c4b59-abe2-43f2-a2a1-d61fb6e888b6",
   "metadata": {},
   "outputs": [],
   "source": [
    "ts_pattern2 = r'\\[(\\d{4}-\\d{2}-\\d{2} \\d{2}:\\d{2}:\\d{2})]'"
   ]
  },
  {
   "cell_type": "code",
   "execution_count": 17,
   "id": "bb588951-dcf1-4d90-8988-1f6cd4edfd60",
   "metadata": {},
   "outputs": [
    {
     "name": "stdout",
     "output_type": "stream",
     "text": [
      "+---------------+-------------------+------+--------------------+--------+------+------------+\n",
      "|           host|          timestamp|method|            endpoint|protocol|status|content_size|\n",
      "+---------------+-------------------+------+--------------------+--------+------+------------+\n",
      "|168.178.113.108|2004-05-18 05:58:48|   GET|/Archives/edgar/d...|HTTP/1.0|   500|       14101|\n",
      "| 197.154.19.231|2019-09-12 00:33:03|   PUT|/Archives/edgar/d...|HTTP/1.0|   404|       23637|\n",
      "|   163.4.211.40|2010-04-24 06:34:14|   PUT|/Archives/edgar/d...|HTTP/1.0|   200|       31769|\n",
      "| 203.56.169.197|2011-08-15 10:57:37|DELETE|/Archives/edgar/d...|HTTP/1.0|   303|       56873|\n",
      "|   9.77.249.198|2006-07-18 03:11:42|  POST|/Archives/edgar/d...|HTTP/1.0|   404|       13877|\n",
      "|  170.71.241.10|2010-11-24 11:15:38|  POST|/Archives/edgar/d...|HTTP/1.0|   303|       38517|\n",
      "|   144.93.178.6|2019-05-06 06:46:48|DELETE|/Archives/edgar/d...|HTTP/1.0|   303|       36675|\n",
      "|184.123.181.252|2009-06-29 11:34:15|   GET|/Archives/edgar/d...|HTTP/1.0|   404|       58964|\n",
      "| 173.237.40.174|2016-02-18 11:10:45|  POST|/Archives/edgar/d...|HTTP/1.0|   304|        2020|\n",
      "|   49.212.141.9|2010-12-02 03:21:49|   GET|/Archives/edgar/d...|HTTP/1.0|   304|       19825|\n",
      "+---------------+-------------------+------+--------------------+--------+------+------------+\n",
      "only showing top 10 rows\n",
      "\n"
     ]
    },
    {
     "name": "stderr",
     "output_type": "stream",
     "text": [
      "                                                                                \r"
     ]
    }
   ],
   "source": [
    "# split the rows to columns\n",
    "df = split_to_df(input_df, ts_pattern2)\n",
    "df.show(10, truncate=True)"
   ]
  },
  {
   "cell_type": "markdown",
   "id": "15658642-a341-453c-af06-b9ffc42c7010",
   "metadata": {},
   "source": [
    "# Handling Missing Data "
   ]
  },
  {
   "cell_type": "markdown",
   "id": "2a390f4f-ea1b-4634-a43e-4f39bfb5d35f",
   "metadata": {},
   "source": [
    "## Count Missing Values"
   ]
  },
  {
   "cell_type": "code",
   "execution_count": 18,
   "id": "353341a5-ca0d-4b96-a27e-2499bcd55ea1",
   "metadata": {},
   "outputs": [
    {
     "data": {
      "text/plain": [
       "['host',\n",
       " 'timestamp',\n",
       " 'method',\n",
       " 'endpoint',\n",
       " 'protocol',\n",
       " 'status',\n",
       " 'content_size']"
      ]
     },
     "execution_count": 18,
     "metadata": {},
     "output_type": "execute_result"
    }
   ],
   "source": [
    "df.columns"
   ]
  },
  {
   "cell_type": "code",
   "execution_count": 19,
   "id": "d3380c2e-2080-4d36-a878-9400dd2d4789",
   "metadata": {},
   "outputs": [
    {
     "name": "stderr",
     "output_type": "stream",
     "text": [
      "[Stage 10:=======>                                                  (1 + 7) / 8]\r"
     ]
    },
    {
     "name": "stdout",
     "output_type": "stream",
     "text": [
      "+----+---------+------+--------+--------+------+------------+\n",
      "|host|timestamp|method|endpoint|protocol|status|content_size|\n",
      "+----+---------+------+--------+--------+------+------------+\n",
      "|   0|        0|     0|       0|       0|     0|           0|\n",
      "+----+---------+------+--------+--------+------+------------+\n",
      "\n"
     ]
    },
    {
     "name": "stderr",
     "output_type": "stream",
     "text": [
      "                                                                                \r"
     ]
    }
   ],
   "source": [
    "# count the number of missing values for each column\n",
    "count_null_col(df).show()"
   ]
  },
  {
   "cell_type": "markdown",
   "id": "e1121718-0126-43ef-9888-a7adf2ca8423",
   "metadata": {},
   "source": [
    "# Data Engineering"
   ]
  },
  {
   "cell_type": "markdown",
   "id": "724fcb08-ae59-43b5-bace-ef9d6d49ac4d",
   "metadata": {},
   "source": [
    "## Format Timestamp"
   ]
  },
  {
   "cell_type": "code",
   "execution_count": 20,
   "id": "93e75f35-79d2-4fa0-b269-c86d63918ad5",
   "metadata": {},
   "outputs": [],
   "source": [
    "def format_timestamp1(df):\n",
    "    udf_parse_time = udf(parse_clf_time)\n",
    "    df = df.select('*',\n",
    "            df['timestamp'].cast('timestamp').alias('time')).drop('timestamp')\n",
    "    return df"
   ]
  },
  {
   "cell_type": "code",
   "execution_count": 21,
   "id": "0f4c4488-32b1-463a-b828-1ae6ca6923a4",
   "metadata": {},
   "outputs": [
    {
     "name": "stdout",
     "output_type": "stream",
     "text": [
      "+---------------+------+--------------------+--------+------+------------+-------------------+\n",
      "|           host|method|            endpoint|protocol|status|content_size|               time|\n",
      "+---------------+------+--------------------+--------+------+------------+-------------------+\n",
      "|168.178.113.108|   GET|/Archives/edgar/d...|HTTP/1.0|   500|       14101|2004-05-18 05:58:48|\n",
      "| 197.154.19.231|   PUT|/Archives/edgar/d...|HTTP/1.0|   404|       23637|2019-09-12 00:33:03|\n",
      "|   163.4.211.40|   PUT|/Archives/edgar/d...|HTTP/1.0|   200|       31769|2010-04-24 06:34:14|\n",
      "| 203.56.169.197|DELETE|/Archives/edgar/d...|HTTP/1.0|   303|       56873|2011-08-15 10:57:37|\n",
      "|   9.77.249.198|  POST|/Archives/edgar/d...|HTTP/1.0|   404|       13877|2006-07-18 03:11:42|\n",
      "|  170.71.241.10|  POST|/Archives/edgar/d...|HTTP/1.0|   303|       38517|2010-11-24 11:15:38|\n",
      "|   144.93.178.6|DELETE|/Archives/edgar/d...|HTTP/1.0|   303|       36675|2019-05-06 06:46:48|\n",
      "|184.123.181.252|   GET|/Archives/edgar/d...|HTTP/1.0|   404|       58964|2009-06-29 11:34:15|\n",
      "| 173.237.40.174|  POST|/Archives/edgar/d...|HTTP/1.0|   304|        2020|2016-02-18 11:10:45|\n",
      "|   49.212.141.9|   GET|/Archives/edgar/d...|HTTP/1.0|   304|       19825|2010-12-02 03:21:49|\n",
      "+---------------+------+--------------------+--------+------+------------+-------------------+\n",
      "only showing top 10 rows\n",
      "\n"
     ]
    }
   ],
   "source": [
    "# format timpstamp to year-month-date format\n",
    "df = format_timestamp1(df)\n",
    "df.show(10, truncate=True)"
   ]
  },
  {
   "cell_type": "markdown",
   "id": "7e7c62a5-129a-4a98-a45c-74d2769b7cc7",
   "metadata": {},
   "source": [
    "# Data Analysis "
   ]
  },
  {
   "cell_type": "markdown",
   "id": "7f5c8440-2bf3-4e3e-b328-f78e953b5d0b",
   "metadata": {},
   "source": [
    "import matplotlib.pyplot as plt\n",
    "import numpy as np\n",
    "import seaborn as sns\n",
    "from pyspark.sql import functions as F\n",
    "%matplotlib inline"
   ]
  },
  {
   "cell_type": "markdown",
   "id": "a8ca9398-ea82-48b5-bbbf-18e24cd57b33",
   "metadata": {},
   "source": [
    "## Content Size"
   ]
  },
  {
   "cell_type": "code",
   "execution_count": 22,
   "id": "911c0ef8-71de-48e0-a667-da19ba40f744",
   "metadata": {},
   "outputs": [
    {
     "data": {
      "text/html": [
       "<div>\n",
       "<style scoped>\n",
       "    .dataframe tbody tr th:only-of-type {\n",
       "        vertical-align: middle;\n",
       "    }\n",
       "\n",
       "    .dataframe tbody tr th {\n",
       "        vertical-align: top;\n",
       "    }\n",
       "\n",
       "    .dataframe thead th {\n",
       "        text-align: right;\n",
       "    }\n",
       "</style>\n",
       "<table border=\"1\" class=\"dataframe\">\n",
       "  <thead>\n",
       "    <tr style=\"text-align: right;\">\n",
       "      <th></th>\n",
       "      <th>summary</th>\n",
       "      <th>content_size</th>\n",
       "    </tr>\n",
       "  </thead>\n",
       "  <tbody>\n",
       "    <tr>\n",
       "      <th>0</th>\n",
       "      <td>count</td>\n",
       "      <td>299999</td>\n",
       "    </tr>\n",
       "    <tr>\n",
       "      <th>1</th>\n",
       "      <td>mean</td>\n",
       "      <td>30025.773582578608</td>\n",
       "    </tr>\n",
       "    <tr>\n",
       "      <th>2</th>\n",
       "      <td>stddev</td>\n",
       "      <td>17324.63034668724</td>\n",
       "    </tr>\n",
       "    <tr>\n",
       "      <th>3</th>\n",
       "      <td>min</td>\n",
       "      <td>1</td>\n",
       "    </tr>\n",
       "    <tr>\n",
       "      <th>4</th>\n",
       "      <td>max</td>\n",
       "      <td>60000</td>\n",
       "    </tr>\n",
       "  </tbody>\n",
       "</table>\n",
       "</div>"
      ],
      "text/plain": [
       "  summary        content_size\n",
       "0   count              299999\n",
       "1    mean  30025.773582578608\n",
       "2  stddev   17324.63034668724\n",
       "3     min                   1\n",
       "4     max               60000"
      ]
     },
     "execution_count": 22,
     "metadata": {},
     "output_type": "execute_result"
    }
   ],
   "source": [
    "content_size_summary_df = df.describe(['content_size'])\n",
    "content_size_summary_df.toPandas()"
   ]
  },
  {
   "cell_type": "markdown",
   "id": "0c93c14b-eb13-4662-8db9-14d61b8b6979",
   "metadata": {
    "tags": []
   },
   "source": [
    "## HTTP Status"
   ]
  },
  {
   "cell_type": "code",
   "execution_count": 28,
   "id": "0b9b162f-6fa6-4522-8ac6-19f9df4b0af0",
   "metadata": {},
   "outputs": [
    {
     "name": "stdout",
     "output_type": "stream",
     "text": [
      "23/06/22 00:31:44 WARN CacheManager: Asked to cache already cached data.\n",
      "+------+-----+\n",
      "|status|count|\n",
      "+------+-----+\n",
      "|200   |42794|\n",
      "|303   |43071|\n",
      "|304   |43085|\n",
      "|403   |42550|\n",
      "|404   |42909|\n",
      "|500   |42972|\n",
      "|502   |42618|\n",
      "+------+-----+\n",
      "\n"
     ]
    },
    {
     "data": {
      "image/png": "[encoded data removed]",
      "text/plain": [
       "<Figure size 500x500 with 1 Axes>"
      ]
     },
     "metadata": {},
     "output_type": "display_data"
    }
   ],
   "source": [
    "status = plot_status(df)\n",
    "status.show(truncate=False)"
   ]
  },
  {
   "cell_type": "markdown",
   "id": "1c58d631-56cd-4c5a-ab44-e1df2d7a9949",
   "metadata": {},
   "source": [
    "## Frequent Host"
   ]
  },
  {
   "cell_type": "code",
   "execution_count": 25,
   "id": "0424f14c-4824-4521-b093-1b59b84ccd51",
   "metadata": {},
   "outputs": [
    {
     "name": "stderr",
     "output_type": "stream",
     "text": [
      "[Stage 27:>                                                         (0 + 5) / 5]\r"
     ]
    },
    {
     "name": "stdout",
     "output_type": "stream",
     "text": [
      "+-------------+-----+\n",
      "|host         |count|\n",
      "+-------------+-----+\n",
      "|48.174.91.81 |2    |\n",
      "|1.121.191.74 |2    |\n",
      "|201.92.29.248|2    |\n",
      "|135.3.193.154|2    |\n",
      "|28.249.24.173|2    |\n",
      "+-------------+-----+\n",
      "\n"
     ]
    },
    {
     "name": "stderr",
     "output_type": "stream",
     "text": [
      "                                                                                \r"
     ]
    }
   ],
   "source": [
    "top_host(df, 5).show(truncate=False)"
   ]
  },
  {
   "cell_type": "markdown",
   "id": "4637c769-52f8-47c3-abb9-af478a79e2cc",
   "metadata": {},
   "source": [
    "## Top EndPoint "
   ]
  },
  {
   "cell_type": "code",
   "execution_count": 29,
   "id": "eb2068d7-c468-411b-8bf0-9f328c186aed",
   "metadata": {},
   "outputs": [
    {
     "name": "stdout",
     "output_type": "stream",
     "text": [
      "+-----------------------------------------------------------------------------------+-----+\n",
      "|endpoint                                                                           |count|\n",
      "+-----------------------------------------------------------------------------------+-----+\n",
      "|/Archives/edgar/data/0000205007/000114554923005580/primary_doc.xml                 |2136 |\n",
      "|/Archives/edgar/data/0001563112/000162828018012499/0001628280-18-012499.txt        |2133 |\n",
      "|/Archives/edgar/data/0001179929/000117992923000043/moh-20230320_g24.jpg            |2102 |\n",
      "|/Archives/edgar/data/0001671697/000092963819000390/form10k.htm                     |2098 |\n",
      "|/Archives/edgar/data/0001002638/000100263815000016/0001002638-15-000016-index.htm  |2098 |\n",
      "|/Archives/edgar/data/0000205007/000114554923015368/0001145549-23-015368.txt        |2083 |\n",
      "|/Archives/edgar/data/0001041024/000110465922099664/xslF345X03/tm2225800-4_4seq1.xml|2073 |\n",
      "|/Archives/edgar/data/0000004281/000119312517062657/R97.htm                         |2071 |\n",
      "|/Archives/edgar/data/0000004281/000119312517062657/R96.htm                         |2062 |\n",
      "|/Archives/edgar/data/1027443/000091293802000245/0000912938-02-000245.txt           |2061 |\n",
      "+-----------------------------------------------------------------------------------+-----+\n",
      "\n"
     ]
    },
    {
     "name": "stderr",
     "output_type": "stream",
     "text": [
      "                                                                                \r"
     ]
    }
   ],
   "source": [
    "top_endpoint(df,10).show(truncate=False)"
   ]
  },
  {
   "cell_type": "markdown",
   "id": "fa765942-b98c-4a65-ae0a-6b8602263f03",
   "metadata": {},
   "source": [
    "## Top EndPoints by day of week"
   ]
  },
  {
   "cell_type": "code",
   "execution_count": 30,
   "id": "625fb569-70eb-4259-897d-4043eed42cea",
   "metadata": {},
   "outputs": [
    {
     "name": "stderr",
     "output_type": "stream",
     "text": [
      "[Stage 64:>                                                         (0 + 1) / 1]\r"
     ]
    },
    {
     "name": "stdout",
     "output_type": "stream",
     "text": [
      "+---------------------------------------------------------------------------+-----+-------------+\n",
      "|endpoint                                                                   |count|Day in a week|\n",
      "+---------------------------------------------------------------------------+-----+-------------+\n",
      "|/Archives/edgar/data/0000205007/000114554923005580/primary_doc.xml         |337  |Sunday       |\n",
      "|/Archives/edgar/data/0001563112/000162828018012499/0001628280-18-012499.txt|340  |Monday       |\n",
      "|/Archives/edgar/data/0000205007/000114554923005577/primary_doc.xml         |340  |Tuesday      |\n",
      "|/Archives/edgar/data/0001260125/000114420419015093/tv516458_10k.htm        |332  |Wednesday    |\n",
      "|/Archives/edgar/data/0000101382/000119312517053195/d317189d10k.htm         |323  |Thursday     |\n",
      "|/Archives/edgar/data/879635/000117184322006367/ownership.xml               |329  |Friday       |\n",
      "|/Archives/edgar/data/0001179929/000117992923000043/moh-20230320_g27.jpg    |332  |Saturday     |\n",
      "+---------------------------------------------------------------------------+-----+-------------+\n",
      "\n"
     ]
    },
    {
     "name": "stderr",
     "output_type": "stream",
     "text": [
      "                                                                                \r"
     ]
    }
   ],
   "source": [
    "result = top_endpoint_by_day(df)\n",
    "result.show(7, truncate=False)"
   ]
  },
  {
   "cell_type": "markdown",
   "id": "2804d199-9042-4607-bd87-a28cd2339058",
   "metadata": {},
   "source": [
    "## 404 status count by day of week"
   ]
  },
  {
   "cell_type": "code",
   "execution_count": 32,
   "id": "cf9a947c-0a03-43ae-b771-fcc10a071558",
   "metadata": {},
   "outputs": [
    {
     "name": "stdout",
     "output_type": "stream",
     "text": [
      "+-----+-------------+\n",
      "|count|Day in a week|\n",
      "+-----+-------------+\n",
      "|6103 |Sunday       |\n",
      "|6056 |Monday       |\n",
      "|6138 |Tuesday      |\n",
      "|6136 |Wednesday    |\n",
      "|6229 |Thursday     |\n",
      "|6212 |Friday       |\n",
      "|6035 |Saturday     |\n",
      "+-----+-------------+\n",
      "\n"
     ]
    }
   ],
   "source": [
    "error_by_day = error_count_by_day(df)\n",
    "error_by_day.show(7, truncate=False)"
   ]
  },
  {
   "cell_type": "code",
   "execution_count": 33,
   "id": "c3202272-cc35-466e-a690-d98b858a033c",
   "metadata": {},
   "outputs": [
    {
     "data": {
      "text/plain": [
       "<seaborn.axisgrid.FacetGrid at 0x7f78e916e980>"
      ]
     },
     "execution_count": 33,
     "metadata": {},
     "output_type": "execute_result"
    },
    {
     "data": {
      "image/png": "[encoded data removed]",
      "text/plain": [
       "<Figure size 750x500 with 1 Axes>"
      ]
     },
     "metadata": {},
     "output_type": "display_data"
    }
   ],
   "source": [
    "sns.catplot(x='Day in a week', y='count', \n",
    "                data=error_by_day.toPandas(), \n",
    "                kind='point', height=5, \n",
    "                aspect=1.5)"
   ]
  },
  {
   "cell_type": "code",
   "execution_count": null,
   "id": "a8ad0967-8fcc-4432-9e46-908da52d7cd4",
   "metadata": {},
   "outputs": [],
   "source": []
  }
 ],
 "metadata": {
  "kernelspec": {
   "display_name": "Python 3 (ipykernel)",
   "language": "python",
   "name": "python3"
  },
  "language_info": {
   "codemirror_mode": {
    "name": "ipython",
    "version": 3
   },
   "file_extension": ".py",
   "mimetype": "text/x-python",
   "name": "python",
   "nbconvert_exporter": "python",
   "pygments_lexer": "ipython3",
   "version": "3.10.0"
  }
 },
 "nbformat": 4,
 "nbformat_minor": 5
}
